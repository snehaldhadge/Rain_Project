{
 "cells": [
  {
   "cell_type": "markdown",
   "metadata": {},
   "source": [
    "Updating the Deals file with latest WBD data"
   ]
  },
  {
   "cell_type": "code",
   "execution_count": 1,
   "metadata": {},
   "outputs": [],
   "source": [
    "import pandas as pd\n",
    "import os\n",
    "import numpy as np\n",
    "from datetime import datetime, date, time, timedelta"
   ]
  },
  {
   "cell_type": "code",
   "execution_count": 2,
   "metadata": {},
   "outputs": [],
   "source": [
    "def rename_icon_columns(df):\n",
    "    df= df.rename(columns={'Country Code':'WBD_councode'\n",
    ",'GDP_Growth':'WBD_GDPg'\n",
    ",'GDPperCapitaPPP':'WBD_GDPpc'\n",
    ",'Exports_As_GDP':'WBD_eGDP'\n",
    ",'FDI':'WBD_FDI'\n",
    ",'ServicesValueAddedAsGDP':'WBD_SVAasGDP'\n",
    ",'RuralPopulationAsTPopulation':'WBD_RPasTP'\n",
    ",'GenderParityIndex':'WBD_GPI'\n",
    ",'CO2EmissionsPerCapita':'WBD_co2pc'\n",
    ",'Population Growth':'WBD_pg'\n",
    ",'RenewableEnergyConsuption':'WBD_REC'\n",
    ",'UnemploymentRate':'WBD_UR'\n",
    ",'Expenditures on Education':'WBD_EonE'\n",
    ",'TertiarySchoolEnrollmentAsPerce':'WBD_TSE %'\n",
    ",'WomenLaborForceParticipation':'WBD_WLFP'\n",
    ",'OreAndMetalsExports':'WBD_OME'\n",
    ",'EnergyIMports':'WBD_energyI'\n",
    ",'MarketCapitalizationAsGDP':'WBD_MCasGDP'\n",
    ",'PublichHealthExpenditures':'WBD_PHE'\n",
    ",'AgingPopulation':'WBD_AP'\n",
    ",'MobilePhonesDiffusion':'WBD_MPD'\n",
    ",'InternetServersperMillion':'WBD_ISpermil'\n",
    ",'Air_transport_registered_carri':'WBD_ATR'\n",
    ",'PortContainerTraffic':'WBD_PCT'\n",
    ",'GINI':'WBD_GINI'\n",
    ",'DisclosureIndex':'WBD_discloserI'\n",
    ",'BanksAsSourceofCredit':'WBD_bankasSOC'\n",
    ",'HighTechExports':'WBD_HTE'\n",
    ",'InternationalTourismExpenditure':'WBD_ITE'\n",
    ",'InternationalTourismReceipts':'WBD_ITR'\n",
    ",'LeadTimeToExport':'WBD_leadtimeE'\n",
    ",'MerchandiseTrade':'WBD_MT'\n",
    ",'StrengthofLegalRights':'WBD_strengthLR'\n",
    ",'NumberOfSTartupProcedures':'WBD_startup_procedures'\n",
    ",'IntentionalHomicides':'WBD_IH'\n",
    ",'NewBusinessFormation':'WBD_NBF'\n",
    ",'ResearchAndDevelopemntSpending':'WBD_RandDspending'\n",
    ",'PatentApplicationResidents':'WBD_patentapps'\n",
    ",'TrademarkAppsResdients':'WBD_TMapps'\n",
    ",'ResearchersinR_D':'WBD_researchersRD'\n",
    ",'FuelExport':'WBD_FE'\n",
    ",'Year_WBD':'WBD_year'\n",
    "\n",
    "                                  })\n",
    "\n",
    "    return df"
   ]
  },
  {
   "cell_type": "code",
   "execution_count": 3,
   "metadata": {},
   "outputs": [],
   "source": [
    "def rename_tcon_columns(df):\n",
    "    df = df.rename(columns={'Country Code':'WBD_councode_t'\n",
    ",'GDP_Growth':'WBD_GDPg_t'\n",
    ",'GDPperCapitaPPP':'WBD_GDPpc_t'\n",
    ",'Exports_As_GDP':'WBD_eGDP_t'\n",
    ",'FDI':'WBD_FDI_t'\n",
    ",'ServicesValueAddedAsGDP':'WBD_SVAasGDP_t'\n",
    ",'RuralPopulationAsTPopulation':'WBD_RPasTP_t'\n",
    ",'GenderParityIndex':'WBD_GPI_t'\n",
    ",'CO2EmissionsPerCapita':'WBD_co2pc_t'\n",
    ",'Population Growth':'WBD_pg_t'\n",
    ",'RenewableEnergyConsuption':'WBD_REC_t'\n",
    ",'UnemploymentRate':'WBD_UR_t'\n",
    ",'Expenditures on Education':'WBD_EonE_t'\n",
    ",'TertiarySchoolEnrollmentAsPerce':'WBD_TSE %_t'\n",
    ",'WomenLaborForceParticipation':'WBD_WLFP_t'\n",
    ",'OreAndMetalsExports':'WBD_OME_t'\n",
    ",'EnergyIMports':'WBD_energyI_t'\n",
    ",'MarketCapitalizationAsGDP':'WBD_MCasGDP_t'\n",
    ",'PublichHealthExpenditures':'WBD_PHE_t'\n",
    ",'AgingPopulation':'WBD_AP_t'\n",
    ",'MobilePhonesDiffusion':'WBD_MPD_t'\n",
    ",'InternetServersperMillion':'WBD_ISpermil_t'\n",
    ",'Air_transport_registerecarri':'WBD_ATR_t'\n",
    ",'PortContainerTraffic':'WBD_PCT_t'\n",
    ",'GINI':'WBD_GINI_t'\n",
    ",'DisclosureIndex':'WBD_discloserI_t'\n",
    ",'BanksAsSourceofCredit':'WBD_bankasSOC_t'\n",
    ",'HighTechExports':'WBD_HTE_t'\n",
    ",'InternationalTourismExpenditure':'WBD_ITE_t'\n",
    ",'InternationalTourismReceipts':'WBD_ITR_t'\n",
    ",'LeadTimeToExport':'WBD_leadtimeE_t'\n",
    ",'MerchandiseTrade':'WBD_MT_t'\n",
    ",'StrengthofLegalRights':'WBD_strengthLR_t'\n",
    ",'NumberOfSTartupProcedures':'WBD_startup_procedures_t'\n",
    ",'IntentionalHomicides':'WBD_IH_t'\n",
    ",'NewBusinessFormation':'WBD_NBF_t'\n",
    ",'ResearchAndDevelopemntSpending':'WBD_RandDspending_t'\n",
    ",'PatentApplicationResidents':'WBD_patentapps_t'\n",
    ",'TrademarkAppsResdients':'WBD_TMapps_t'\n",
    ",'ResearchersinR_D':'WBD_researchersRD_t'\n",
    ",'FuelExport':'WBD_FE_t'\n",
    ",'Year_WBD':'WBD_year_t'\n",
    "})\n",
    "    return df"
   ]
  },
  {
   "cell_type": "code",
   "execution_count": 4,
   "metadata": {},
   "outputs": [],
   "source": [
    "def change_columns(wbd_df,df_d):\n",
    "    wbd_df = wbd_df.rename(columns={'Country Name':'tcoun'})\n",
    "    df_d = df_d.merge(wbd_df, on='tcoun',how='left')\n",
    "    df_d = rename_tcon_columns(df_d)\n",
    "    wbd_df = wbd_df.rename(columns={'tcoun':'icoun'})\n",
    "    df_d = df_d.merge(wbd_df, on='icoun',how='left')\n",
    "    df_d =  rename_icon_columns(df_d)\n",
    "    return wbd_df,df_d"
   ]
  },
  {
   "cell_type": "code",
   "execution_count": 26,
   "metadata": {},
   "outputs": [],
   "source": [
    "deals_final = pd.ExcelFile(\"Final DEALS 2020_old.xlsx\")"
   ]
  },
  {
   "cell_type": "code",
   "execution_count": 27,
   "metadata": {},
   "outputs": [],
   "source": [
    "deals_final = deals_final.parse()"
   ]
  },
  {
   "cell_type": "code",
   "execution_count": 46,
   "metadata": {},
   "outputs": [],
   "source": [
    "os.rename('Final DEALS 2020.xlsx','Final DEALS 2020_old.xlsx')"
   ]
  },
  {
   "cell_type": "markdown",
   "metadata": {},
   "source": [
    "Deals have data from various years.. we need data from 2014-2019\n",
    "There are some Nan values ise laststatusdate to get the date"
   ]
  },
  {
   "cell_type": "code",
   "execution_count": 28,
   "metadata": {},
   "outputs": [
    {
     "data": {
      "text/plain": [
       "array([2015.,   nan, 2014., 2016., 2013., 2012., 2005., 2011., 2017.,\n",
       "       2008., 2010., 2018., 2019.])"
      ]
     },
     "execution_count": 28,
     "metadata": {},
     "output_type": "execute_result"
    }
   ],
   "source": [
    "deals_final['adateyear'].unique()"
   ]
  },
  {
   "cell_type": "markdown",
   "metadata": {},
   "source": [
    "There are 33412 rows with adateyear is null as there is no adate or rdate, using laststatusdate year to get the year"
   ]
  },
  {
   "cell_type": "code",
   "execution_count": 32,
   "metadata": {},
   "outputs": [],
   "source": [
    "deals_final['laststatusdate'] = pd.to_datetime(deals_final['laststatusdate'])"
   ]
  },
  {
   "cell_type": "code",
   "execution_count": 42,
   "metadata": {},
   "outputs": [],
   "source": [
    "deals_final['adateyear'] = np.where(pd.isnull(deals_final['adateyear']), deals_final['laststatusdate'].dt.year, deals_final['adateyear'])"
   ]
  },
  {
   "cell_type": "code",
   "execution_count": 43,
   "metadata": {},
   "outputs": [
    {
     "data": {
      "text/plain": [
       "array([2015., 2018., 2017., 2016., 2014., 2013., 2012., 2005., 2011.,\n",
       "       2008., 2010., 2019.])"
      ]
     },
     "execution_count": 43,
     "metadata": {},
     "output_type": "execute_result"
    }
   ],
   "source": [
    "deals_final['adateyear'].unique()"
   ]
  },
  {
   "cell_type": "code",
   "execution_count": 44,
   "metadata": {},
   "outputs": [
    {
     "data": {
      "text/html": [
       "<div>\n",
       "<style scoped>\n",
       "    .dataframe tbody tr th:only-of-type {\n",
       "        vertical-align: middle;\n",
       "    }\n",
       "\n",
       "    .dataframe tbody tr th {\n",
       "        vertical-align: top;\n",
       "    }\n",
       "\n",
       "    .dataframe thead th {\n",
       "        text-align: right;\n",
       "    }\n",
       "</style>\n",
       "<table border=\"1\" class=\"dataframe\">\n",
       "  <thead>\n",
       "    <tr style=\"text-align: right;\">\n",
       "      <th></th>\n",
       "      <th>adateyear</th>\n",
       "    </tr>\n",
       "  </thead>\n",
       "  <tbody>\n",
       "    <tr>\n",
       "      <th>2</th>\n",
       "      <td>2018.0</td>\n",
       "    </tr>\n",
       "    <tr>\n",
       "      <th>7</th>\n",
       "      <td>2017.0</td>\n",
       "    </tr>\n",
       "    <tr>\n",
       "      <th>8</th>\n",
       "      <td>2017.0</td>\n",
       "    </tr>\n",
       "    <tr>\n",
       "      <th>12</th>\n",
       "      <td>2017.0</td>\n",
       "    </tr>\n",
       "    <tr>\n",
       "      <th>13</th>\n",
       "      <td>2017.0</td>\n",
       "    </tr>\n",
       "    <tr>\n",
       "      <th>...</th>\n",
       "      <td>...</td>\n",
       "    </tr>\n",
       "    <tr>\n",
       "      <th>56482</th>\n",
       "      <td>2019.0</td>\n",
       "    </tr>\n",
       "    <tr>\n",
       "      <th>56483</th>\n",
       "      <td>2019.0</td>\n",
       "    </tr>\n",
       "    <tr>\n",
       "      <th>56489</th>\n",
       "      <td>2019.0</td>\n",
       "    </tr>\n",
       "    <tr>\n",
       "      <th>56493</th>\n",
       "      <td>2019.0</td>\n",
       "    </tr>\n",
       "    <tr>\n",
       "      <th>56495</th>\n",
       "      <td>2019.0</td>\n",
       "    </tr>\n",
       "  </tbody>\n",
       "</table>\n",
       "<p>33412 rows × 1 columns</p>\n",
       "</div>"
      ],
      "text/plain": [
       "       adateyear\n",
       "2         2018.0\n",
       "7         2017.0\n",
       "8         2017.0\n",
       "12        2017.0\n",
       "13        2017.0\n",
       "...          ...\n",
       "56482     2019.0\n",
       "56483     2019.0\n",
       "56489     2019.0\n",
       "56493     2019.0\n",
       "56495     2019.0\n",
       "\n",
       "[33412 rows x 1 columns]"
      ]
     },
     "execution_count": 44,
     "metadata": {},
     "output_type": "execute_result"
    }
   ],
   "source": [
    "deals_final[deals_final['adate'].isnull() & deals_final['rdate'].isnull()][['adateyear']]"
   ]
  },
  {
   "cell_type": "code",
   "execution_count": 47,
   "metadata": {},
   "outputs": [
    {
     "data": {
      "text/plain": [
       "['WBD_councode',\n",
       " 'WBD_GDPg',\n",
       " 'WBD_GDPpc',\n",
       " 'WBD_eGDP',\n",
       " 'WBD_FDI',\n",
       " 'WBD_SVAasGDP',\n",
       " 'WBD_RPasTP',\n",
       " 'WBD_GPI',\n",
       " 'WBD_co2pc',\n",
       " 'WBD_pg',\n",
       " 'WBD_REC',\n",
       " 'WBD_UR',\n",
       " 'WBD_EonE',\n",
       " 'WBD_TSE%',\n",
       " 'WBD_WLFP',\n",
       " 'WBD_OME',\n",
       " 'WBD_energyI',\n",
       " 'WBD_MCasGDP',\n",
       " 'WBD_PHE',\n",
       " 'WBD_AP',\n",
       " 'WBD_MPD',\n",
       " 'WBD_ISpermil',\n",
       " 'WBD_ATR',\n",
       " 'WBD_PCT',\n",
       " 'WBD_GINI',\n",
       " 'WBD_discloserI',\n",
       " 'WBD_bankasSOC',\n",
       " 'WBD_HTE',\n",
       " 'WBD_ITE',\n",
       " 'WBD_ITR',\n",
       " 'WBD_leadtimeE',\n",
       " 'WBD_MT',\n",
       " 'WBD_strengthLR',\n",
       " 'WBD_startup_procedures',\n",
       " 'WBD_IH',\n",
       " 'WBD_NBF',\n",
       " 'WBD_RandDspending',\n",
       " 'WBD_patentapps',\n",
       " 'WBD_TMapps',\n",
       " 'WBD_researchersRD',\n",
       " 'WBD_FE',\n",
       " 'WBD_year',\n",
       " 'WBD_councode_t',\n",
       " 'WBD_GDPg_t',\n",
       " 'WBD_GDPpc_t',\n",
       " 'WBD_eGDP_t',\n",
       " 'WBD_FDI_t',\n",
       " 'WBD_SVAasGDP_t',\n",
       " 'WBD_RPasTP_t',\n",
       " 'WBD_GPI_t',\n",
       " 'WBD_co2pc_t',\n",
       " 'WBD_pg_t',\n",
       " 'WBD_REC_t',\n",
       " 'WBD_UR_t',\n",
       " 'WBD_EonE_t',\n",
       " 'WBD_TSE%_t',\n",
       " 'WBD_WLFP_t',\n",
       " 'WBD_OME_t',\n",
       " 'WBD_energyI_t',\n",
       " 'WBD_MCasGDP_t',\n",
       " 'WBD_PHE_t',\n",
       " 'WBD_AP_t',\n",
       " 'WBD_MPD_t',\n",
       " 'WBD_ISpermil_t',\n",
       " 'WBD_ATR_t',\n",
       " 'WBD_PCT_t',\n",
       " 'WBD_GINI_t',\n",
       " 'WBD_discloserI_t',\n",
       " 'WBD_bankasSOC_t',\n",
       " 'WBD_HTE_t',\n",
       " 'WBD_ITE_t',\n",
       " 'WBD_ITR_t',\n",
       " 'WBD_leadtimeE_t',\n",
       " 'WBD_MT_t',\n",
       " 'WBD_strengthLR_t',\n",
       " 'WBD_startup_procedures_t',\n",
       " 'WBD_IH_t',\n",
       " 'WBD_NBF_t',\n",
       " 'WBD_RandDspending_t',\n",
       " 'WBD_patentapps_t',\n",
       " 'WBD_TMapps_t',\n",
       " 'WBD_researchersRD_t',\n",
       " 'WBD_FE_t',\n",
       " 'WBD_year_t']"
      ]
     },
     "execution_count": 47,
     "metadata": {},
     "output_type": "execute_result"
    }
   ],
   "source": [
    "Wbd_cols = deals_final.filter(regex=r'^WBD', axis=1).columns\n",
    "list(Wbd_cols)"
   ]
  },
  {
   "cell_type": "code",
   "execution_count": 48,
   "metadata": {},
   "outputs": [
    {
     "data": {
      "text/plain": [
       "['WGI_CC',\n",
       " 'WGI_GE',\n",
       " 'WGI_RL',\n",
       " 'WGI_RQ',\n",
       " 'WGI_VA',\n",
       " 'WGI_pstabilityNV',\n",
       " 'WGI_CC_t',\n",
       " 'WGI_GE_t',\n",
       " 'WGI_RL_t',\n",
       " 'WGI_RQ_t',\n",
       " 'WGI_VA_t',\n",
       " 'WGI_pstabilityNV_t']"
      ]
     },
     "execution_count": 48,
     "metadata": {},
     "output_type": "execute_result"
    }
   ],
   "source": [
    "wgi_cols = deals_final.filter(regex=r'^WGI', axis=1).columns\n",
    "list(wgi_cols)"
   ]
  },
  {
   "cell_type": "code",
   "execution_count": 49,
   "metadata": {},
   "outputs": [
    {
     "data": {
      "text/plain": [
       "['ipri']"
      ]
     },
     "execution_count": 49,
     "metadata": {},
     "output_type": "execute_result"
    }
   ],
   "source": [
    "ipri_cols = deals_final.filter(regex=r'^ipri', axis=1).columns\n",
    "list(ipri_cols)"
   ]
  },
  {
   "cell_type": "code",
   "execution_count": 50,
   "metadata": {},
   "outputs": [
    {
     "data": {
      "text/plain": [
       "['WBD_councode',\n",
       " 'WBD_GDPg',\n",
       " 'WBD_GDPpc',\n",
       " 'WBD_eGDP',\n",
       " 'WBD_FDI',\n",
       " 'WBD_SVAasGDP',\n",
       " 'WBD_RPasTP',\n",
       " 'WBD_GPI',\n",
       " 'WBD_co2pc',\n",
       " 'WBD_pg',\n",
       " 'WBD_REC',\n",
       " 'WBD_UR',\n",
       " 'WBD_EonE',\n",
       " 'WBD_TSE%',\n",
       " 'WBD_WLFP',\n",
       " 'WBD_OME',\n",
       " 'WBD_energyI',\n",
       " 'WBD_MCasGDP',\n",
       " 'WBD_PHE',\n",
       " 'WBD_AP',\n",
       " 'WBD_MPD',\n",
       " 'WBD_ISpermil',\n",
       " 'WBD_ATR',\n",
       " 'WBD_PCT',\n",
       " 'WBD_GINI',\n",
       " 'WBD_discloserI',\n",
       " 'WBD_bankasSOC',\n",
       " 'WBD_HTE',\n",
       " 'WBD_ITE',\n",
       " 'WBD_ITR',\n",
       " 'WBD_leadtimeE',\n",
       " 'WBD_MT',\n",
       " 'WBD_strengthLR',\n",
       " 'WBD_startup_procedures',\n",
       " 'WBD_IH',\n",
       " 'WBD_NBF',\n",
       " 'WBD_RandDspending',\n",
       " 'WBD_patentapps',\n",
       " 'WBD_TMapps',\n",
       " 'WBD_researchersRD',\n",
       " 'WBD_FE',\n",
       " 'WBD_year',\n",
       " 'WBD_councode_t',\n",
       " 'WBD_GDPg_t',\n",
       " 'WBD_GDPpc_t',\n",
       " 'WBD_eGDP_t',\n",
       " 'WBD_FDI_t',\n",
       " 'WBD_SVAasGDP_t',\n",
       " 'WBD_RPasTP_t',\n",
       " 'WBD_GPI_t',\n",
       " 'WBD_co2pc_t',\n",
       " 'WBD_pg_t',\n",
       " 'WBD_REC_t',\n",
       " 'WBD_UR_t',\n",
       " 'WBD_EonE_t',\n",
       " 'WBD_TSE%_t',\n",
       " 'WBD_WLFP_t',\n",
       " 'WBD_OME_t',\n",
       " 'WBD_energyI_t',\n",
       " 'WBD_MCasGDP_t',\n",
       " 'WBD_PHE_t',\n",
       " 'WBD_AP_t',\n",
       " 'WBD_MPD_t',\n",
       " 'WBD_ISpermil_t',\n",
       " 'WBD_ATR_t',\n",
       " 'WBD_PCT_t',\n",
       " 'WBD_GINI_t',\n",
       " 'WBD_discloserI_t',\n",
       " 'WBD_bankasSOC_t',\n",
       " 'WBD_HTE_t',\n",
       " 'WBD_ITE_t',\n",
       " 'WBD_ITR_t',\n",
       " 'WBD_leadtimeE_t',\n",
       " 'WBD_MT_t',\n",
       " 'WBD_strengthLR_t',\n",
       " 'WBD_startup_procedures_t',\n",
       " 'WBD_IH_t',\n",
       " 'WBD_NBF_t',\n",
       " 'WBD_RandDspending_t',\n",
       " 'WBD_patentapps_t',\n",
       " 'WBD_TMapps_t',\n",
       " 'WBD_researchersRD_t',\n",
       " 'WBD_FE_t',\n",
       " 'WBD_year_t',\n",
       " 'WGI_CC',\n",
       " 'WGI_GE',\n",
       " 'WGI_RL',\n",
       " 'WGI_RQ',\n",
       " 'WGI_VA',\n",
       " 'WGI_pstabilityNV',\n",
       " 'WGI_CC_t',\n",
       " 'WGI_GE_t',\n",
       " 'WGI_RL_t',\n",
       " 'WGI_RQ_t',\n",
       " 'WGI_VA_t',\n",
       " 'WGI_pstabilityNV_t',\n",
       " 'ipri']"
      ]
     },
     "execution_count": 50,
     "metadata": {},
     "output_type": "execute_result"
    }
   ],
   "source": [
    "Wbd_cols = Wbd_cols.append(wgi_cols)\n",
    "Wbd_cols = Wbd_cols.append(ipri_cols)\n",
    "list(Wbd_cols)"
   ]
  },
  {
   "cell_type": "code",
   "execution_count": 51,
   "metadata": {},
   "outputs": [
    {
     "data": {
      "text/plain": [
       "['Unnamed: 0',\n",
       " 'dheadline',\n",
       " 'dnumber',\n",
       " 'dtype',\n",
       " 'dstatus',\n",
       " 'dvalue',\n",
       " 'dvalue_type',\n",
       " 'tname',\n",
       " 'tcoun',\n",
       " 'tcity',\n",
       " 'tregion',\n",
       " 'tworld',\n",
       " 'TBD',\n",
       " 'tBVDsector_primarycode',\n",
       " 'tBVDsector_primarycode_desc',\n",
       " 'tBVDid',\n",
       " 'iname',\n",
       " 'icoun',\n",
       " 'icity',\n",
       " 'iregion',\n",
       " 'iworld',\n",
       " 'IBD',\n",
       " 'iBVDsector_primarycode',\n",
       " 'iBVDsector_primarycode_desc',\n",
       " 'iBVDid',\n",
       " 'giname',\n",
       " 'gicoun',\n",
       " 'giBVDid',\n",
       " 'vname',\n",
       " 'vcoun',\n",
       " 'VBD',\n",
       " 'vBVDsector_primarycode',\n",
       " 'vBVDsector_primarycode_desc',\n",
       " 'vBVDid',\n",
       " 'rdate',\n",
       " 'adate',\n",
       " 'ecdate',\n",
       " 'cdate',\n",
       " 'wdate',\n",
       " 'pdate',\n",
       " 'laststatusdate',\n",
       " 'lastupdatedate',\n",
       " 'dcomments',\n",
       " 'drationale',\n",
       " 'ipost',\n",
       " 'itele',\n",
       " 'iweb',\n",
       " 'imail',\n",
       " 'tpost',\n",
       " 'ttele',\n",
       " 'tweb',\n",
       " 'tmail',\n",
       " 'iname_comp',\n",
       " 'i_g',\n",
       " 'daddr',\n",
       " 'istreet',\n",
       " 'ipobox',\n",
       " 'iTP',\n",
       " 'iTD',\n",
       " 'itrade_desc',\n",
       " 'idesc_hist',\n",
       " 'iBVDsector',\n",
       " 'iBVDsector_primarycode_comp',\n",
       " 'iBVDsector_primarycode_desc_comp',\n",
       " 'iBVDsector_secondarycode_comp',\n",
       " 'iBVDsector_secondarycode_desc_comp',\n",
       " 'iUSSIC_core',\n",
       " 'iUSSIC_core_desc',\n",
       " 'iUSSIC_primary',\n",
       " 'iUSSIC_primary_desc',\n",
       " 'iUSSIC_secondary',\n",
       " 'iUSSIC_secondary_desc',\n",
       " 'peergroup',\n",
       " 'peergroup_desc',\n",
       " 'peergroup_size',\n",
       " 'oper_turnover',\n",
       " 'PL_beforetax',\n",
       " 'wcapital',\n",
       " 'cash',\n",
       " 'TLE',\n",
       " 'ST_debt',\n",
       " 'LT_debt',\n",
       " 'empl',\n",
       " 'EXP',\n",
       " 'cost_empl',\n",
       " 'RD',\n",
       " 'cashflow',\n",
       " 'EBITDA',\n",
       " 'profit_margin',\n",
       " 'ER_OR',\n",
       " 'RD_OR',\n",
       " 'current_ratio',\n",
       " 'iliquidity_ratio',\n",
       " 'profit_empl',\n",
       " 'OR_empl',\n",
       " 'cost_empl_OR',\n",
       " 'no_directors',\n",
       " 'DM',\n",
       " 'gname_comp',\n",
       " 'gBVDid_comp',\n",
       " 'gstateowned',\n",
       " 'gticker',\n",
       " 'gISO',\n",
       " 'gcity_comp',\n",
       " 'gNAICS',\n",
       " 'gNAICS_desc',\n",
       " 'gTP',\n",
       " 'gTD',\n",
       " 'listingstatus',\n",
       " 'curr',\n",
       " 'sharetype',\n",
       " 'ticker',\n",
       " 'SE',\n",
       " 'SE_info',\n",
       " 'IPO',\n",
       " 'delisting_date',\n",
       " 'delisting_note',\n",
       " 'MP_current',\n",
       " 'MP_high',\n",
       " 'MP_low',\n",
       " 'oshare',\n",
       " 'Cmcapitalization',\n",
       " 'CF_share',\n",
       " 'Bvshare',\n",
       " 'sharesoutstanding',\n",
       " 'mcapital',\n",
       " 'expen_share',\n",
       " 'EPS',\n",
       " 'OperPS',\n",
       " 'OPPS',\n",
       " 'DPS',\n",
       " 'BVPS',\n",
       " 'TBVPS',\n",
       " 'LTLPS',\n",
       " 'WCPS',\n",
       " 'iBVDid_comp',\n",
       " 'iBVD_accountno',\n",
       " 'TR_no',\n",
       " 'LEI',\n",
       " 'ISIN',\n",
       " 'prevname',\n",
       " 'Nlform',\n",
       " 'DOI',\n",
       " 'latest_acc_closing_date',\n",
       " 'Lasy_avail_year',\n",
       " 'Ocurr',\n",
       " 'Filteryear',\n",
       " 'economy2',\n",
       " 'economy2_t',\n",
       " 'adateyear',\n",
       " 'coageEntry',\n",
       " 'gnameinameequals',\n",
       " 'nogname',\n",
       " 'indepco',\n",
       " 'problematic',\n",
       " 'withdrawn',\n",
       " 'councode',\n",
       " 'cdh',\n",
       " 'GC1',\n",
       " 'GC2',\n",
       " 'dtypesfine',\n",
       " 'samecountry',\n",
       " 'withdrawn2',\n",
       " 'withdrawn3',\n",
       " 'withdrawn4',\n",
       " 'withdrawn5',\n",
       " 'withdrawn6',\n",
       " 'SICdivision',\n",
       " 'coage2019']"
      ]
     },
     "execution_count": 51,
     "metadata": {},
     "output_type": "execute_result"
    }
   ],
   "source": [
    "df_d = deals_final.drop(Wbd_cols,axis=1)\n",
    "list(df_d.columns)"
   ]
  },
  {
   "cell_type": "code",
   "execution_count": 52,
   "metadata": {},
   "outputs": [],
   "source": [
    "df_d2014 = df_d[df_d['adateyear'] == 2014]\n",
    "df_d2015 = df_d[df_d['adateyear'] == 2015]\n",
    "df_d2016 = df_d[df_d['adateyear'] == 2016]\n",
    "df_d2017 = df_d[df_d['adateyear'] == 2017]\n",
    "df_d2018 = df_d[df_d['adateyear'] == 2018]\n",
    "df_d2019 = df_d[df_d['adateyear'] == 2019]\n",
    "df_others = df_d[(df_d['adateyear'] != 2014) &(df_d['adateyear'] != 2015)&(df_d['adateyear'] != 2016)&(df_d['adateyear'] != 2017)&(df_d['adateyear'] != 2018)&(df_d['adateyear'] != 2019)].reset_index()"
   ]
  },
  {
   "cell_type": "code",
   "execution_count": 53,
   "metadata": {},
   "outputs": [
    {
     "data": {
      "text/plain": [
       "(931, 169)"
      ]
     },
     "execution_count": 53,
     "metadata": {},
     "output_type": "execute_result"
    }
   ],
   "source": [
    "df_d2014.shape\n"
   ]
  },
  {
   "cell_type": "code",
   "execution_count": 54,
   "metadata": {},
   "outputs": [],
   "source": [
    "wbd = pd.ExcelFile(\"World Bank Variables Year wise sheet.xlsx\")\n",
    "wbd_2014 = wbd.parse(\"2014\")\n",
    "wbd_2015 = wbd.parse(\"2015\")\n",
    "wbd_2016 = wbd.parse(\"2016\")\n",
    "wbd_2017 = wbd.parse(\"2017\")\n",
    "wbd_2018 = wbd.parse(\"2018\")\n",
    "wbd_2019 = wbd.parse(\"2019\")"
   ]
  },
  {
   "cell_type": "code",
   "execution_count": 55,
   "metadata": {},
   "outputs": [],
   "source": [
    "wbd_2014,df_d2014 = change_columns(wbd_2014,df_d2014)"
   ]
  },
  {
   "cell_type": "code",
   "execution_count": 56,
   "metadata": {},
   "outputs": [],
   "source": [
    "wbd_2015,df_d2015 = change_columns(wbd_2015,df_d2015)\n",
    "wbd_2016,df_d2016 = change_columns(wbd_2016,df_d2016)\n",
    "wbd_2017,df_d2017 = change_columns(wbd_2017,df_d2017)\n",
    "wbd_2018,df_d2018 = change_columns(wbd_2018,df_d2018)\n",
    "wbd_2019,df_d2019 = change_columns(wbd_2019,df_d2019)"
   ]
  },
  {
   "cell_type": "code",
   "execution_count": 57,
   "metadata": {},
   "outputs": [],
   "source": [
    "df_deals = df_d2014\n",
    "df_deals = df_deals.append(df_d2015, ignore_index=True)\n",
    "df_deals = df_deals.append(df_d2016, ignore_index=True)\n",
    "df_deals = df_deals.append(df_d2017, ignore_index=True)\n",
    "df_deals = df_deals.append(df_d2018, ignore_index=True)\n",
    "df_deals = df_deals.append(df_d2019, ignore_index=True)\n",
    "df_deals.to_csv('final_deals_file_wbd.csv')"
   ]
  },
  {
   "cell_type": "code",
   "execution_count": null,
   "metadata": {},
   "outputs": [],
   "source": []
  }
 ],
 "metadata": {
  "kernelspec": {
   "display_name": "Python 3",
   "language": "python",
   "name": "python3"
  },
  "language_info": {
   "codemirror_mode": {
    "name": "ipython",
    "version": 3
   },
   "file_extension": ".py",
   "mimetype": "text/x-python",
   "name": "python",
   "nbconvert_exporter": "python",
   "pygments_lexer": "ipython3",
   "version": "3.9.1"
  }
 },
 "nbformat": 4,
 "nbformat_minor": 4
}
