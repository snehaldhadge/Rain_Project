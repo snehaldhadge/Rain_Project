{
 "cells": [
  {
   "cell_type": "markdown",
   "metadata": {},
   "source": [
    "Updating the WGI Data into Projects Files"
   ]
  },
  {
   "cell_type": "code",
   "execution_count": 1,
   "metadata": {},
   "outputs": [],
   "source": [
    "import pandas as pd\n",
    "import numpy as np\n",
    "from datetime import datetime, date, time, timedelta"
   ]
  },
  {
   "cell_type": "code",
   "execution_count": 2,
   "metadata": {},
   "outputs": [],
   "source": [
    "def rename_dcon_columns(df):\n",
    "    df = df.rename(columns={'WGI_CC':'WGI_CC_d',\n",
    "                       'WGI_GE':'WGI_GE_d',\n",
    "                       'WGI_RL':'WGI_RL_d',\n",
    "                       'WGI_RQ':'WGI_RQ_d',\n",
    "                       'WGI_VA':'WGI_VA_d',\n",
    "                       'WGI_pstabilityNV':'WGI_pstabilityNV_d'})\n",
    "    return df\n"
   ]
  },
  {
   "cell_type": "code",
   "execution_count": null,
   "metadata": {},
   "outputs": [],
   "source": [
    "\n"
   ]
  },
  {
   "cell_type": "code",
   "execution_count": 3,
   "metadata": {},
   "outputs": [],
   "source": [
    "def change_columns(wbd_df,df_p):\n",
    "    \n",
    "    wbd_df = wbd_df.rename(columns={'Countr':'dcoun'})\n",
    "    df_p = df_p.merge(wbd_df, on='dcoun',how='left')\n",
    "    df_p =  rename_dcon_columns(df_p)\n",
    "    \n",
    "    wbd_df = wbd_df.rename(columns={'dcoun':'icoun'})\n",
    "    df_p = df_p.merge(wbd_df, on='icoun',how='left')\n",
    "  \n",
    "    print(df_p.columns)\n",
    "    return wbd_df,df_p"
   ]
  },
  {
   "cell_type": "code",
   "execution_count": 4,
   "metadata": {},
   "outputs": [
    {
     "name": "stderr",
     "output_type": "stream",
     "text": [
      "//anaconda3/lib/python3.7/site-packages/IPython/core/interactiveshell.py:3063: DtypeWarning: Columns (43,44,73,74) have mixed types.Specify dtype option on import or set low_memory=False.\n",
      "  interactivity=interactivity, compiler=compiler, result=result)\n"
     ]
    }
   ],
   "source": [
    "df = pd.read_csv(\"final_projects_file_wbd.csv\")"
   ]
  },
  {
   "cell_type": "code",
   "execution_count": null,
   "metadata": {},
   "outputs": [],
   "source": []
  },
  {
   "cell_type": "code",
   "execution_count": null,
   "metadata": {},
   "outputs": [],
   "source": []
  },
  {
   "cell_type": "code",
   "execution_count": 5,
   "metadata": {},
   "outputs": [],
   "source": [
    "wgi = pd.ExcelFile(\"WGI_yearwise.xlsx\")\n",
    "wgi_2013 = wgi.parse(\"2013\")\n",
    "wgi_2014 = wgi.parse(\"2014\")\n",
    "wgi_2015 = wgi.parse(\"2015\")\n",
    "wgi_2016 = wgi.parse(\"2016\")\n",
    "wgi_2017 = wgi.parse(\"2017\")\n",
    "wgi_2018 = wgi.parse(\"2018\")\n",
    "wgi_2019 = wgi.parse(\"2019\")"
   ]
  },
  {
   "cell_type": "code",
   "execution_count": 6,
   "metadata": {},
   "outputs": [],
   "source": [
    "\n",
    "#wgi = wgi_2013\n",
    "#wgi = wgi.append(wgi_2014)\n",
    "#wgi = wgi.append(wgi_2015)\n",
    "#wgi = wgi.append(wgi_2016)\n",
    "#wgi = wgi.append(wgi_2017)\n",
    "#wgi = wgi.append(wgi_2018)\n",
    "#wgi = wgi.append(wgi_2019)\n",
    "\n"
   ]
  },
  {
   "cell_type": "code",
   "execution_count": 7,
   "metadata": {},
   "outputs": [
    {
     "data": {
      "text/plain": [
       "array(['Virgin Islands (British)', 'Taiwan', 'n.a.', 'Gibraltar',\n",
       "       'Jersey', 'Venezuela', 'Supranational', 'Curaçao', 'Guernsey',\n",
       "       'Slovakia', \"Democratic People's Republic of Korea\", 'Guadeloupe',\n",
       "       'Isle of Man', 'Palestinian Territories', 'Kyrgyzstan',\n",
       "       'São Tome and Principe'], dtype=object)"
      ]
     },
     "execution_count": 7,
     "metadata": {},
     "output_type": "execute_result"
    }
   ],
   "source": [
    "nonlisted_coun_p = df['icoun'][df['icoun'].isin(wgi_2014['Countr']) == False].unique()\n",
    "nonlisted_coun_p"
   ]
  },
  {
   "cell_type": "code",
   "execution_count": 8,
   "metadata": {},
   "outputs": [
    {
     "data": {
      "text/plain": [
       "array(['Taiwan', 'Far East and Central Asia', 'Middle East',\n",
       "       'Latin America and the Caribbean', 'Africa', 'Western Europe',\n",
       "       'Kyrgyzstan', 'Slovakia', 'North America', 'Venezuela',\n",
       "       'Virgin Islands (British)', 'Balkan States',\n",
       "       'Palestinian Territories', 'Eastern Europe', 'n.a.',\n",
       "       'Turks and Caicos Islands', 'Eswatini', 'New Caledonia', 'Oceania',\n",
       "       'Nordic States', 'Baltic States', 'Gibraltar', 'French Polynesia',\n",
       "       'Scandinavia', 'Jersey', 'Northern Mariana Islands',\n",
       "       \"Democratic People's Republic of Korea\", 'Faroe Islands',\n",
       "       'Guernsey', 'Curaçao', 'São Tome and Principe'], dtype=object)"
      ]
     },
     "execution_count": 8,
     "metadata": {},
     "output_type": "execute_result"
    }
   ],
   "source": [
    "nonlisted_coun_p = df['dcoun'][df['dcoun'].isin(wgi_2014['Countr']) == False].unique()\n",
    "nonlisted_coun_p"
   ]
  },
  {
   "cell_type": "code",
   "execution_count": 9,
   "metadata": {},
   "outputs": [],
   "source": [
    "df_p2014 = df[df['adateyear'] == 2014]\n",
    "df_p2015 = df[df['adateyear'] == 2015]\n",
    "df_p2016 = df[df['adateyear'] == 2016]\n",
    "df_p2017 = df[df['adateyear'] == 2017]\n",
    "df_p2018 = df[df['adateyear'] == 2018]\n",
    "df_p2019 = df[df['adateyear'] == 2019]\n",
    "#df_others = df[(df_p['adateyear'] != 2014) &(df_p['adateyear'] != 2015)&(df_p['adateyear'] != 2016)&(df_p['adateyear'] != 2017)&(df_p['adateyear'] != 2018)&(df_p['adateyear'] != 2019)]"
   ]
  },
  {
   "cell_type": "code",
   "execution_count": null,
   "metadata": {},
   "outputs": [],
   "source": []
  },
  {
   "cell_type": "code",
   "execution_count": 10,
   "metadata": {},
   "outputs": [],
   "source": [
    "#df_p2014 = df[df['adateyear'] == 2014].reset_index()\n",
    "#df_p2015 = df[df['adateyear'] == 2015].reset_index()\n",
    "#df_p2016 = df_p[df_p['adateyear'] == 2016].reset_index()\n",
    "#df_p2017 = df_p[df_p['adateyear'] == 2017].reset_index()\n",
    "#df_p2018 = df_p[df_p['adateyear'] == 2018].reset_index()\n",
    "#df_p2019 = df_p[df_p['adateyear'] == 2019].reset_index()\n",
    "#df_others = df_p[(df_p['adateyear'] != 2014) &(df_p['adateyear'] != 2015)&(df_p['adateyear'] != 2016)&(df_p['adateyear'] != 2017)&(df_p['adateyear'] != 2018)&(df_p['adateyear'] != 2019)].reset_index()"
   ]
  },
  {
   "cell_type": "code",
   "execution_count": 11,
   "metadata": {},
   "outputs": [],
   "source": [
    "# print(df_p2014.index)\n",
    "# print(df_p2015.index)\n",
    "# print(df_p2016.index)\n",
    "# print(df_p2017.index)\n",
    "# print(df_p2018.index)\n",
    "# print(df_others.index)"
   ]
  },
  {
   "cell_type": "code",
   "execution_count": 12,
   "metadata": {},
   "outputs": [
    {
     "name": "stdout",
     "output_type": "stream",
     "text": [
      "Index(['Unnamed: 0', 'pheadline', 'pnumber', 'ptype', 'pstatus', 'iexpen',\n",
      "       'PBD', 'iname', 'iBVDid', 'gname',\n",
      "       ...\n",
      "       'WGI_GE_d', 'WGI_RQ_d', 'WGI_RL_d', 'WGI_CC_d', 'WGI_VA',\n",
      "       'WGI_pstabilityNV', 'WGI_GE', 'WGI_RQ', 'WGI_RL', 'WGI_CC'],\n",
      "      dtype='object', length=287)\n",
      "Index(['Unnamed: 0', 'pheadline', 'pnumber', 'ptype', 'pstatus', 'iexpen',\n",
      "       'PBD', 'iname', 'iBVDid', 'gname',\n",
      "       ...\n",
      "       'WGI_GE_d', 'WGI_RQ_d', 'WGI_RL_d', 'WGI_CC_d', 'WGI_VA',\n",
      "       'WGI_pstabilityNV', 'WGI_GE', 'WGI_RQ', 'WGI_RL', 'WGI_CC'],\n",
      "      dtype='object', length=287)\n",
      "Index(['Unnamed: 0', 'pheadline', 'pnumber', 'ptype', 'pstatus', 'iexpen',\n",
      "       'PBD', 'iname', 'iBVDid', 'gname',\n",
      "       ...\n",
      "       'WGI_GE_d', 'WGI_RQ_d', 'WGI_RL_d', 'WGI_CC_d', 'WGI_VA',\n",
      "       'WGI_pstabilityNV', 'WGI_GE', 'WGI_RQ', 'WGI_RL', 'WGI_CC'],\n",
      "      dtype='object', length=287)\n",
      "Index(['Unnamed: 0', 'pheadline', 'pnumber', 'ptype', 'pstatus', 'iexpen',\n",
      "       'PBD', 'iname', 'iBVDid', 'gname',\n",
      "       ...\n",
      "       'WGI_GE_d', 'WGI_RQ_d', 'WGI_RL_d', 'WGI_CC_d', 'WGI_VA',\n",
      "       'WGI_pstabilityNV', 'WGI_GE', 'WGI_RQ', 'WGI_RL', 'WGI_CC'],\n",
      "      dtype='object', length=287)\n",
      "Index(['Unnamed: 0', 'pheadline', 'pnumber', 'ptype', 'pstatus', 'iexpen',\n",
      "       'PBD', 'iname', 'iBVDid', 'gname',\n",
      "       ...\n",
      "       'WGI_GE_d', 'WGI_RQ_d', 'WGI_RL_d', 'WGI_CC_d', 'WGI_VA',\n",
      "       'WGI_pstabilityNV', 'WGI_GE', 'WGI_RQ', 'WGI_RL', 'WGI_CC'],\n",
      "      dtype='object', length=287)\n",
      "Index(['Unnamed: 0', 'pheadline', 'pnumber', 'ptype', 'pstatus', 'iexpen',\n",
      "       'PBD', 'iname', 'iBVDid', 'gname',\n",
      "       ...\n",
      "       'WGI_GE_d', 'WGI_RQ_d', 'WGI_RL_d', 'WGI_CC_d', 'WGI_VA',\n",
      "       'WGI_pstabilityNV', 'WGI_GE', 'WGI_RQ', 'WGI_RL', 'WGI_CC'],\n",
      "      dtype='object', length=287)\n"
     ]
    }
   ],
   "source": [
    "wgi_2014,df_p2014 = change_columns(wgi_2014,df_p2014)\n",
    "wgi_2015,df_p2015 = change_columns(wgi_2015,df_p2015)\n",
    "wgi_2016,df_p2016 = change_columns(wgi_2016,df_p2016)\n",
    "wgi_2017,df_p2017 = change_columns(wgi_2017,df_p2017)\n",
    "wgi_2018,df_p2018 = change_columns(wgi_2018,df_p2018)\n",
    "wgi_2019,df_p2019 = change_columns(wgi_2019,df_p2019)"
   ]
  },
  {
   "cell_type": "code",
   "execution_count": 13,
   "metadata": {},
   "outputs": [],
   "source": [
    "df_projects = df_p2014\n",
    "df_projects = df_projects.append(df_p2015, ignore_index=True)\n",
    "df_projects = df_projects.append(df_p2016, ignore_index=True)\n",
    "df_projects = df_projects.append(df_p2017, ignore_index=True)\n",
    "df_projects = df_projects.append(df_p2018, ignore_index=True)\n",
    "df_projects = df_projects.append(df_p2019, ignore_index=True)\n",
    "df_projects.to_csv('final_projects_wbd_wgi.csv')"
   ]
  },
  {
   "cell_type": "code",
   "execution_count": null,
   "metadata": {},
   "outputs": [],
   "source": []
  },
  {
   "cell_type": "code",
   "execution_count": null,
   "metadata": {},
   "outputs": [],
   "source": []
  }
 ],
 "metadata": {
  "kernelspec": {
   "display_name": "Python 3",
   "language": "python",
   "name": "python3"
  },
  "language_info": {
   "codemirror_mode": {
    "name": "ipython",
    "version": 3
   },
   "file_extension": ".py",
   "mimetype": "text/x-python",
   "name": "python",
   "nbconvert_exporter": "python",
   "pygments_lexer": "ipython3",
   "version": "3.7.6"
  }
 },
 "nbformat": 4,
 "nbformat_minor": 4
}
