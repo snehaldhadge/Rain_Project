{
 "cells": [
  {
   "cell_type": "code",
   "execution_count": 1,
   "metadata": {},
   "outputs": [],
   "source": [
    "import pandas as pd\n",
    "import numpy as np\n",
    "from datetime import datetime, date, time, timedelta"
   ]
  },
  {
   "cell_type": "code",
   "execution_count": 2,
   "metadata": {},
   "outputs": [],
   "source": [
    "def rename_tcon_columns(df):\n",
    "    df = df.rename(columns={'WGI_CC':'WGI_CC_t',\n",
    "                       'WGI_GE':'WGI_GE_t',\n",
    "                       'WGI_RL':'WGI_RL_t',\n",
    "                       'WGI_RQ':'WGI_RQ_t',\n",
    "                       'WGI_VA':'WGI_VA_t',\n",
    "                       'WGI_pstabilityNV':'WGI_pstabilityNV_t'})\n",
    "    return df"
   ]
  },
  {
   "cell_type": "code",
   "execution_count": 3,
   "metadata": {},
   "outputs": [],
   "source": [
    "def change_columns(wbd_df,df_d):\n",
    "    \n",
    "    wbd_df = wbd_df.rename(columns={'Countr':'tcoun'})\n",
    "    df_d = df_d.merge(wbd_df, on='tcoun',how='left')\n",
    "    df_d =  rename_tcon_columns(df_d)\n",
    "    \n",
    "    wbd_df = wbd_df.rename(columns={'tcoun':'icoun'})\n",
    "    df_d = df_d.merge(wbd_df, on='icoun',how='left')\n",
    "  \n",
    "    print(df_d.columns)\n",
    "    return wbd_df,df_d"
   ]
  },
  {
   "cell_type": "code",
   "execution_count": 4,
   "metadata": {},
   "outputs": [
    {
     "name": "stderr",
     "output_type": "stream",
     "text": [
      "c:\\users\\sneha\\appdata\\local\\programs\\python\\python39\\lib\\site-packages\\IPython\\core\\interactiveshell.py:3146: DtypeWarning: Columns (39,40) have mixed types.Specify dtype option on import or set low_memory=False.\n",
      "  has_raised = await self.run_ast_nodes(code_ast.body, cell_name,\n"
     ]
    }
   ],
   "source": [
    "df = pd.read_csv(\"final_deals_file_wbd.csv\")"
   ]
  },
  {
   "cell_type": "code",
   "execution_count": 5,
   "metadata": {},
   "outputs": [],
   "source": [
    "wgi = pd.ExcelFile(\"WGI_yearwise.xlsx\")\n",
    "wgi_2013 = wgi.parse(\"2013\")\n",
    "wgi_2014 = wgi.parse(\"2014\")\n",
    "wgi_2015 = wgi.parse(\"2015\")\n",
    "wgi_2016 = wgi.parse(\"2016\")\n",
    "wgi_2017 = wgi.parse(\"2017\")\n",
    "wgi_2018 = wgi.parse(\"2018\")\n",
    "wgi_2019 = wgi.parse(\"2019\")"
   ]
  },
  {
   "cell_type": "code",
   "execution_count": 6,
   "metadata": {},
   "outputs": [],
   "source": [
    "df_d2014 = df[df['adateyear'] == 2014]\n",
    "df_d2015 = df[df['adateyear'] == 2015]\n",
    "df_d2016 = df[df['adateyear'] == 2016]\n",
    "df_d2017 = df[df['adateyear'] == 2017]\n",
    "df_d2018 = df[df['adateyear'] == 2018]\n",
    "df_d2019 = df[df['adateyear'] == 2019]"
   ]
  },
  {
   "cell_type": "code",
   "execution_count": 7,
   "metadata": {},
   "outputs": [
    {
     "name": "stdout",
     "output_type": "stream",
     "text": [
      "Index(['Unnamed: 0', 'Unnamed: 0.1', 'dheadline', 'dnumber', 'dtype',\n",
      "       'dstatus', 'dvalue', 'dvalue_type', 'tname', 'tcoun',\n",
      "       ...\n",
      "       'WGI_GE_t', 'WGI_RQ_t', 'WGI_RL_t', 'WGI_CC_t', 'WGI_VA',\n",
      "       'WGI_pstabilityNV', 'WGI_GE', 'WGI_RQ', 'WGI_RL', 'WGI_CC'],\n",
      "      dtype='object', length=268)\n",
      "Index(['Unnamed: 0', 'Unnamed: 0.1', 'dheadline', 'dnumber', 'dtype',\n",
      "       'dstatus', 'dvalue', 'dvalue_type', 'tname', 'tcoun',\n",
      "       ...\n",
      "       'WGI_GE_t', 'WGI_RQ_t', 'WGI_RL_t', 'WGI_CC_t', 'WGI_VA',\n",
      "       'WGI_pstabilityNV', 'WGI_GE', 'WGI_RQ', 'WGI_RL', 'WGI_CC'],\n",
      "      dtype='object', length=268)\n",
      "Index(['Unnamed: 0', 'Unnamed: 0.1', 'dheadline', 'dnumber', 'dtype',\n",
      "       'dstatus', 'dvalue', 'dvalue_type', 'tname', 'tcoun',\n",
      "       ...\n",
      "       'WGI_GE_t', 'WGI_RQ_t', 'WGI_RL_t', 'WGI_CC_t', 'WGI_VA',\n",
      "       'WGI_pstabilityNV', 'WGI_GE', 'WGI_RQ', 'WGI_RL', 'WGI_CC'],\n",
      "      dtype='object', length=268)\n",
      "Index(['Unnamed: 0', 'Unnamed: 0.1', 'dheadline', 'dnumber', 'dtype',\n",
      "       'dstatus', 'dvalue', 'dvalue_type', 'tname', 'tcoun',\n",
      "       ...\n",
      "       'WGI_GE_t', 'WGI_RQ_t', 'WGI_RL_t', 'WGI_CC_t', 'WGI_VA',\n",
      "       'WGI_pstabilityNV', 'WGI_GE', 'WGI_RQ', 'WGI_RL', 'WGI_CC'],\n",
      "      dtype='object', length=268)\n",
      "Index(['Unnamed: 0', 'Unnamed: 0.1', 'dheadline', 'dnumber', 'dtype',\n",
      "       'dstatus', 'dvalue', 'dvalue_type', 'tname', 'tcoun',\n",
      "       ...\n",
      "       'WGI_GE_t', 'WGI_RQ_t', 'WGI_RL_t', 'WGI_CC_t', 'WGI_VA',\n",
      "       'WGI_pstabilityNV', 'WGI_GE', 'WGI_RQ', 'WGI_RL', 'WGI_CC'],\n",
      "      dtype='object', length=268)\n",
      "Index(['Unnamed: 0', 'Unnamed: 0.1', 'dheadline', 'dnumber', 'dtype',\n",
      "       'dstatus', 'dvalue', 'dvalue_type', 'tname', 'tcoun',\n",
      "       ...\n",
      "       'WGI_GE_t', 'WGI_RQ_t', 'WGI_RL_t', 'WGI_CC_t', 'WGI_VA',\n",
      "       'WGI_pstabilityNV', 'WGI_GE', 'WGI_RQ', 'WGI_RL', 'WGI_CC'],\n",
      "      dtype='object', length=268)\n"
     ]
    }
   ],
   "source": [
    "wgi_2014,df_d2014 = change_columns(wgi_2014,df_d2014)\n",
    "wgi_2015,df_d2015 = change_columns(wgi_2015,df_d2015)\n",
    "wgi_2016,df_d2016 = change_columns(wgi_2016,df_d2016)\n",
    "wgi_2017,df_d2017 = change_columns(wgi_2017,df_d2017)\n",
    "wgi_2018,df_d2018 = change_columns(wgi_2018,df_d2018)\n",
    "wgi_2019,df_d2019 = change_columns(wgi_2019,df_d2019)"
   ]
  },
  {
   "cell_type": "code",
   "execution_count": 8,
   "metadata": {},
   "outputs": [],
   "source": [
    "df_deals = df_d2014\n",
    "df_deals = df_deals.append(df_d2015, ignore_index=True)\n",
    "df_deals = df_deals.append(df_d2016, ignore_index=True)\n",
    "df_deals = df_deals.append(df_d2017, ignore_index=True)\n",
    "df_deals = df_deals.append(df_d2018, ignore_index=True)\n",
    "df_deals = df_deals.append(df_d2019, ignore_index=True)\n",
    "df_deals.to_csv('final_deals_wbd_wgi.csv')"
   ]
  },
  {
   "cell_type": "code",
   "execution_count": null,
   "metadata": {},
   "outputs": [],
   "source": []
  }
 ],
 "metadata": {
  "kernelspec": {
   "display_name": "Python 3",
   "language": "python",
   "name": "python3"
  },
  "language_info": {
   "codemirror_mode": {
    "name": "ipython",
    "version": 3
   },
   "file_extension": ".py",
   "mimetype": "text/x-python",
   "name": "python",
   "nbconvert_exporter": "python",
   "pygments_lexer": "ipython3",
   "version": "3.9.1"
  }
 },
 "nbformat": 4,
 "nbformat_minor": 4
}
