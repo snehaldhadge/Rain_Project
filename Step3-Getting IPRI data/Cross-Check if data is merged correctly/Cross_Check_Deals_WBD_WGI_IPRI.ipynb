{
 "cells": [
  {
   "cell_type": "markdown",
   "metadata": {},
   "source": [
    "Cross check the created Deals file"
   ]
  },
  {
   "cell_type": "code",
   "execution_count": 1,
   "metadata": {},
   "outputs": [],
   "source": [
    "import pandas as pd\n",
    "import numpy as np"
   ]
  },
  {
   "cell_type": "code",
   "execution_count": 19,
   "metadata": {},
   "outputs": [
    {
     "name": "stderr",
     "output_type": "stream",
     "text": [
      "c:\\users\\sneha\\appdata\\local\\programs\\python\\python39\\lib\\site-packages\\IPython\\core\\interactiveshell.py:3146: DtypeWarning: Columns (0,5,13,39,75,76,77,78,79,80,81,82,83,85,91,92,107,151,152,267,268) have mixed types.Specify dtype option on import or set low_memory=False.\n",
      "  has_raised = await self.run_ast_nodes(code_ast.body, cell_name,\n"
     ]
    }
   ],
   "source": [
    "df = pd.read_csv(\"Final_Deals_2020.csv\")"
   ]
  },
  {
   "cell_type": "code",
   "execution_count": 3,
   "metadata": {},
   "outputs": [],
   "source": [
    "df_old = pd.ExcelFile(\"Final DEALS 2020_old.xlsx\")\n",
    "df_old = df_old.parse()"
   ]
  },
  {
   "cell_type": "code",
   "execution_count": 20,
   "metadata": {},
   "outputs": [
    {
     "data": {
      "text/plain": [
       "(22349, 269)"
      ]
     },
     "execution_count": 20,
     "metadata": {},
     "output_type": "execute_result"
    }
   ],
   "source": [
    "df.shape"
   ]
  },
  {
   "cell_type": "code",
   "execution_count": 5,
   "metadata": {},
   "outputs": [
    {
     "data": {
      "text/plain": [
       "(56496, 266)"
      ]
     },
     "execution_count": 5,
     "metadata": {},
     "output_type": "execute_result"
    }
   ],
   "source": [
    "df_old.shape"
   ]
  },
  {
   "cell_type": "code",
   "execution_count": 6,
   "metadata": {},
   "outputs": [
    {
     "data": {
      "text/plain": [
       "array([2015.,   nan, 2014., 2016., 2013., 2012., 2005., 2011., 2017.,\n",
       "       2008., 2010., 2018., 2019.])"
      ]
     },
     "execution_count": 6,
     "metadata": {},
     "output_type": "execute_result"
    }
   ],
   "source": [
    "df_old['adateyear'].unique()"
   ]
  },
  {
   "cell_type": "code",
   "execution_count": 7,
   "metadata": {},
   "outputs": [
    {
     "name": "stdout",
     "output_type": "stream",
     "text": [
      "The row count matches\n"
     ]
    }
   ],
   "source": [
    "if len(df) != len(df_old):\n",
    "    df_year = df_old.loc[df_old.adateyear.isin([2014,2015,2016,2017,2018,2019])]\n",
    "    if(len(df) == len(df_year)):\n",
    "        print(\"The row count matches\")\n",
    "    else:\n",
    "        print(\"Needs investigation\")"
   ]
  },
  {
   "cell_type": "code",
   "execution_count": 21,
   "metadata": {},
   "outputs": [
    {
     "data": {
      "text/plain": [
       "Index(['WBD_TSE%', 'WBD_TSE%_t'], dtype='object')"
      ]
     },
     "execution_count": 21,
     "metadata": {},
     "output_type": "execute_result"
    }
   ],
   "source": [
    "df_old_col = df_old.columns.sort_values()\n",
    "df_old_col.difference(df.columns.sort_values())"
   ]
  },
  {
   "cell_type": "code",
   "execution_count": 17,
   "metadata": {},
   "outputs": [
    {
     "data": {
      "text/plain": [
       "['Unnamed: 0',\n",
       " 'dheadline',\n",
       " 'dnumber',\n",
       " 'dtype',\n",
       " 'dstatus',\n",
       " 'dvalue',\n",
       " 'dvalue_type',\n",
       " 'tname',\n",
       " 'tcoun',\n",
       " 'tcity',\n",
       " 'tregion',\n",
       " 'tworld',\n",
       " 'TBD',\n",
       " 'tBVDsector_primarycode',\n",
       " 'tBVDsector_primarycode_desc',\n",
       " 'tBVDid',\n",
       " 'iname',\n",
       " 'icoun',\n",
       " 'icity',\n",
       " 'iregion',\n",
       " 'iworld',\n",
       " 'IBD',\n",
       " 'iBVDsector_primarycode',\n",
       " 'iBVDsector_primarycode_desc',\n",
       " 'iBVDid',\n",
       " 'giname',\n",
       " 'gicoun',\n",
       " 'giBVDid',\n",
       " 'vname',\n",
       " 'vcoun',\n",
       " 'VBD',\n",
       " 'vBVDsector_primarycode',\n",
       " 'vBVDsector_primarycode_desc',\n",
       " 'vBVDid',\n",
       " 'rdate',\n",
       " 'adate',\n",
       " 'ecdate',\n",
       " 'cdate',\n",
       " 'wdate',\n",
       " 'pdate',\n",
       " 'laststatusdate',\n",
       " 'lastupdatedate',\n",
       " 'dcomments',\n",
       " 'drationale',\n",
       " 'ipost',\n",
       " 'itele',\n",
       " 'iweb',\n",
       " 'imail',\n",
       " 'tpost',\n",
       " 'ttele',\n",
       " 'tweb',\n",
       " 'tmail',\n",
       " 'iname_comp',\n",
       " 'i_g',\n",
       " 'daddr',\n",
       " 'istreet',\n",
       " 'ipobox',\n",
       " 'iTP',\n",
       " 'iTD',\n",
       " 'itrade_desc',\n",
       " 'idesc_hist',\n",
       " 'iBVDsector',\n",
       " 'iBVDsector_primarycode_comp',\n",
       " 'iBVDsector_primarycode_desc_comp',\n",
       " 'iBVDsector_secondarycode_comp',\n",
       " 'iBVDsector_secondarycode_desc_comp',\n",
       " 'iUSSIC_core',\n",
       " 'iUSSIC_core_desc',\n",
       " 'iUSSIC_primary',\n",
       " 'iUSSIC_primary_desc',\n",
       " 'iUSSIC_secondary',\n",
       " 'iUSSIC_secondary_desc',\n",
       " 'peergroup',\n",
       " 'peergroup_desc',\n",
       " 'peergroup_size',\n",
       " 'oper_turnover',\n",
       " 'PL_beforetax',\n",
       " 'wcapital',\n",
       " 'cash',\n",
       " 'TLE',\n",
       " 'ST_debt',\n",
       " 'LT_debt',\n",
       " 'empl',\n",
       " 'EXP',\n",
       " 'cost_empl',\n",
       " 'RD',\n",
       " 'cashflow',\n",
       " 'EBITDA',\n",
       " 'profit_margin',\n",
       " 'ER_OR',\n",
       " 'RD_OR',\n",
       " 'current_ratio',\n",
       " 'iliquidity_ratio',\n",
       " 'profit_empl',\n",
       " 'OR_empl',\n",
       " 'cost_empl_OR',\n",
       " 'no_directors',\n",
       " 'DM',\n",
       " 'gname_comp',\n",
       " 'gBVDid_comp',\n",
       " 'gstateowned',\n",
       " 'gticker',\n",
       " 'gISO',\n",
       " 'gcity_comp',\n",
       " 'gNAICS',\n",
       " 'gNAICS_desc',\n",
       " 'gTP',\n",
       " 'gTD',\n",
       " 'listingstatus',\n",
       " 'curr',\n",
       " 'sharetype',\n",
       " 'ticker',\n",
       " 'SE',\n",
       " 'SE_info',\n",
       " 'IPO',\n",
       " 'delisting_date',\n",
       " 'delisting_note',\n",
       " 'MP_current',\n",
       " 'MP_high',\n",
       " 'MP_low',\n",
       " 'oshare',\n",
       " 'Cmcapitalization',\n",
       " 'CF_share',\n",
       " 'Bvshare',\n",
       " 'sharesoutstanding',\n",
       " 'mcapital',\n",
       " 'expen_share',\n",
       " 'EPS',\n",
       " 'OperPS',\n",
       " 'OPPS',\n",
       " 'DPS',\n",
       " 'BVPS',\n",
       " 'TBVPS',\n",
       " 'LTLPS',\n",
       " 'WCPS',\n",
       " 'iBVDid_comp',\n",
       " 'iBVD_accountno',\n",
       " 'TR_no',\n",
       " 'LEI',\n",
       " 'ISIN',\n",
       " 'prevname',\n",
       " 'Nlform',\n",
       " 'DOI',\n",
       " 'latest_acc_closing_date',\n",
       " 'Lasy_avail_year',\n",
       " 'Ocurr',\n",
       " 'Filteryear',\n",
       " 'economy2',\n",
       " 'economy2_t',\n",
       " 'adateyear',\n",
       " 'coageEntry',\n",
       " 'gnameinameequals',\n",
       " 'nogname',\n",
       " 'indepco',\n",
       " 'problematic',\n",
       " 'withdrawn',\n",
       " 'WBD_councode',\n",
       " 'WBD_GDPg',\n",
       " 'WBD_GDPpc',\n",
       " 'WBD_eGDP',\n",
       " 'WBD_FDI',\n",
       " 'WBD_SVAasGDP',\n",
       " 'WBD_RPasTP',\n",
       " 'WBD_GPI',\n",
       " 'WBD_co2pc',\n",
       " 'WBD_pg',\n",
       " 'WBD_REC',\n",
       " 'WBD_UR',\n",
       " 'WBD_EonE',\n",
       " 'WBD_TSE%',\n",
       " 'WBD_WLFP',\n",
       " 'WBD_OME',\n",
       " 'WBD_energyI',\n",
       " 'WBD_MCasGDP',\n",
       " 'WBD_PHE',\n",
       " 'WBD_AP',\n",
       " 'WBD_MPD',\n",
       " 'WBD_ISpermil',\n",
       " 'WBD_ATR',\n",
       " 'WBD_PCT',\n",
       " 'WBD_GINI',\n",
       " 'WBD_discloserI',\n",
       " 'WBD_bankasSOC',\n",
       " 'WBD_HTE',\n",
       " 'WBD_ITE',\n",
       " 'WBD_ITR',\n",
       " 'WBD_leadtimeE',\n",
       " 'WBD_MT',\n",
       " 'WBD_strengthLR',\n",
       " 'WBD_startup_procedures',\n",
       " 'WBD_IH',\n",
       " 'WBD_NBF',\n",
       " 'WBD_RandDspending',\n",
       " 'WBD_patentapps',\n",
       " 'WBD_TMapps',\n",
       " 'WBD_researchersRD',\n",
       " 'WBD_FE',\n",
       " 'WBD_year',\n",
       " 'WBD_councode_t',\n",
       " 'WBD_GDPg_t',\n",
       " 'WBD_GDPpc_t',\n",
       " 'WBD_eGDP_t',\n",
       " 'WBD_FDI_t',\n",
       " 'WBD_SVAasGDP_t',\n",
       " 'WBD_RPasTP_t',\n",
       " 'WBD_GPI_t',\n",
       " 'WBD_co2pc_t',\n",
       " 'WBD_pg_t',\n",
       " 'WBD_REC_t',\n",
       " 'WBD_UR_t',\n",
       " 'WBD_EonE_t',\n",
       " 'WBD_TSE%_t',\n",
       " 'WBD_WLFP_t',\n",
       " 'WBD_OME_t',\n",
       " 'WBD_energyI_t',\n",
       " 'WBD_MCasGDP_t',\n",
       " 'WBD_PHE_t',\n",
       " 'WBD_AP_t',\n",
       " 'WBD_MPD_t',\n",
       " 'WBD_ISpermil_t',\n",
       " 'WBD_ATR_t',\n",
       " 'WBD_PCT_t',\n",
       " 'WBD_GINI_t',\n",
       " 'WBD_discloserI_t',\n",
       " 'WBD_bankasSOC_t',\n",
       " 'WBD_HTE_t',\n",
       " 'WBD_ITE_t',\n",
       " 'WBD_ITR_t',\n",
       " 'WBD_leadtimeE_t',\n",
       " 'WBD_MT_t',\n",
       " 'WBD_strengthLR_t',\n",
       " 'WBD_startup_procedures_t',\n",
       " 'WBD_IH_t',\n",
       " 'WBD_NBF_t',\n",
       " 'WBD_RandDspending_t',\n",
       " 'WBD_patentapps_t',\n",
       " 'WBD_TMapps_t',\n",
       " 'WBD_researchersRD_t',\n",
       " 'WBD_FE_t',\n",
       " 'WBD_year_t',\n",
       " 'councode',\n",
       " 'WGI_CC',\n",
       " 'WGI_GE',\n",
       " 'WGI_RL',\n",
       " 'WGI_RQ',\n",
       " 'WGI_VA',\n",
       " 'WGI_pstabilityNV',\n",
       " 'WGI_CC_t',\n",
       " 'WGI_GE_t',\n",
       " 'WGI_RL_t',\n",
       " 'WGI_RQ_t',\n",
       " 'WGI_VA_t',\n",
       " 'WGI_pstabilityNV_t',\n",
       " 'cdh',\n",
       " 'GC1',\n",
       " 'GC2',\n",
       " 'dtypesfine',\n",
       " 'ipri',\n",
       " 'samecountry',\n",
       " 'withdrawn2',\n",
       " 'withdrawn3',\n",
       " 'withdrawn4',\n",
       " 'withdrawn5',\n",
       " 'withdrawn6',\n",
       " 'SICdivision',\n",
       " 'coage2019']"
      ]
     },
     "execution_count": 17,
     "metadata": {},
     "output_type": "execute_result"
    }
   ],
   "source": [
    "df_old_col = df_old.sort_index()\n",
    "list(df_old_col)"
   ]
  },
  {
   "cell_type": "code",
   "execution_count": 18,
   "metadata": {},
   "outputs": [
    {
     "data": {
      "text/plain": [
       "['Unnamed: 0',\n",
       " 'dheadline',\n",
       " 'dnumber',\n",
       " 'dtype',\n",
       " 'dstatus',\n",
       " 'dvalue',\n",
       " 'dvalue_type',\n",
       " 'tname',\n",
       " 'tcoun',\n",
       " 'tcity',\n",
       " 'tregion',\n",
       " 'tworld',\n",
       " 'TBD',\n",
       " 'tBVDsector_primarycode',\n",
       " 'tBVDsector_primarycode_desc',\n",
       " 'tBVDid',\n",
       " 'iname',\n",
       " 'icoun',\n",
       " 'icity',\n",
       " 'iregion',\n",
       " 'iworld',\n",
       " 'IBD',\n",
       " 'iBVDsector_primarycode',\n",
       " 'iBVDsector_primarycode_desc',\n",
       " 'iBVDid',\n",
       " 'giname',\n",
       " 'gicoun',\n",
       " 'giBVDid',\n",
       " 'vname',\n",
       " 'vcoun',\n",
       " 'VBD',\n",
       " 'vBVDsector_primarycode',\n",
       " 'vBVDsector_primarycode_desc',\n",
       " 'vBVDid',\n",
       " 'rdate',\n",
       " 'adate',\n",
       " 'ecdate',\n",
       " 'cdate',\n",
       " 'wdate',\n",
       " 'pdate',\n",
       " 'laststatusdate',\n",
       " 'lastupdatedate',\n",
       " 'dcomments',\n",
       " 'drationale',\n",
       " 'ipost',\n",
       " 'itele',\n",
       " 'iweb',\n",
       " 'imail',\n",
       " 'tpost',\n",
       " 'ttele',\n",
       " 'tweb',\n",
       " 'tmail',\n",
       " 'iname_comp',\n",
       " 'i_g',\n",
       " 'daddr',\n",
       " 'istreet',\n",
       " 'ipobox',\n",
       " 'iTP',\n",
       " 'iTD',\n",
       " 'itrade_desc',\n",
       " 'idesc_hist',\n",
       " 'iBVDsector',\n",
       " 'iBVDsector_primarycode_comp',\n",
       " 'iBVDsector_primarycode_desc_comp',\n",
       " 'iBVDsector_secondarycode_comp',\n",
       " 'iBVDsector_secondarycode_desc_comp',\n",
       " 'iUSSIC_core',\n",
       " 'iUSSIC_core_desc',\n",
       " 'iUSSIC_primary',\n",
       " 'iUSSIC_primary_desc',\n",
       " 'iUSSIC_secondary',\n",
       " 'iUSSIC_secondary_desc',\n",
       " 'peergroup',\n",
       " 'peergroup_desc',\n",
       " 'peergroup_size',\n",
       " 'oper_turnover',\n",
       " 'PL_beforetax',\n",
       " 'wcapital',\n",
       " 'cash',\n",
       " 'TLE',\n",
       " 'ST_debt',\n",
       " 'LT_debt',\n",
       " 'empl',\n",
       " 'EXP',\n",
       " 'cost_empl',\n",
       " 'RD',\n",
       " 'cashflow',\n",
       " 'EBITDA',\n",
       " 'profit_margin',\n",
       " 'ER_OR',\n",
       " 'RD_OR',\n",
       " 'current_ratio',\n",
       " 'iliquidity_ratio',\n",
       " 'profit_empl',\n",
       " 'OR_empl',\n",
       " 'cost_empl_OR',\n",
       " 'no_directors',\n",
       " 'DM',\n",
       " 'gname_comp',\n",
       " 'gBVDid_comp',\n",
       " 'gstateowned',\n",
       " 'gticker',\n",
       " 'gISO',\n",
       " 'gcity_comp',\n",
       " 'gNAICS',\n",
       " 'gNAICS_desc',\n",
       " 'gTP',\n",
       " 'gTD',\n",
       " 'listingstatus',\n",
       " 'curr',\n",
       " 'sharetype',\n",
       " 'ticker',\n",
       " 'SE',\n",
       " 'SE_info',\n",
       " 'IPO',\n",
       " 'delisting_date',\n",
       " 'delisting_note',\n",
       " 'MP_current',\n",
       " 'MP_high',\n",
       " 'MP_low',\n",
       " 'oshare',\n",
       " 'Cmcapitalization',\n",
       " 'CF_share',\n",
       " 'Bvshare',\n",
       " 'sharesoutstanding',\n",
       " 'mcapital',\n",
       " 'expen_share',\n",
       " 'EPS',\n",
       " 'OperPS',\n",
       " 'OPPS',\n",
       " 'DPS',\n",
       " 'BVPS',\n",
       " 'TBVPS',\n",
       " 'LTLPS',\n",
       " 'WCPS',\n",
       " 'iBVDid_comp',\n",
       " 'iBVD_accountno',\n",
       " 'TR_no',\n",
       " 'LEI',\n",
       " 'ISIN',\n",
       " 'prevname',\n",
       " 'Nlform',\n",
       " 'DOI',\n",
       " 'latest_acc_closing_date',\n",
       " 'Lasy_avail_year',\n",
       " 'Ocurr',\n",
       " 'Filteryear',\n",
       " 'economy2',\n",
       " 'economy2_t',\n",
       " 'adateyear',\n",
       " 'coageEntry',\n",
       " 'gnameinameequals',\n",
       " 'nogname',\n",
       " 'indepco',\n",
       " 'problematic',\n",
       " 'withdrawn',\n",
       " 'councode',\n",
       " 'cdh',\n",
       " 'GC1',\n",
       " 'GC2',\n",
       " 'dtypesfine',\n",
       " 'samecountry',\n",
       " 'withdrawn2',\n",
       " 'withdrawn3',\n",
       " 'withdrawn4',\n",
       " 'withdrawn5',\n",
       " 'withdrawn6',\n",
       " 'SICdivision',\n",
       " 'coage2019',\n",
       " 'WBD_councode_t',\n",
       " 'WBD_GDPg_t',\n",
       " 'WBD_GDPpc_t',\n",
       " 'WBD_eGDP_t',\n",
       " 'WBD_FDI_t',\n",
       " 'WBD_SVAasGDP_t',\n",
       " 'WBD_RPasTP_t',\n",
       " 'WBD_GPI_t',\n",
       " 'WBD_co2pc_t',\n",
       " 'Population_Growth_x',\n",
       " 'WBD_REC_t',\n",
       " 'WBD_UR_t',\n",
       " 'Expenditures_on_Education_x',\n",
       " 'WBD_TSE %_t',\n",
       " 'WBD_WLFP_t',\n",
       " 'WBD_OME_t',\n",
       " 'WBD_FE_t',\n",
       " 'WBD_energyI_t',\n",
       " 'WBD_MCasGDP_t',\n",
       " 'WBD_PHE_t',\n",
       " 'WBD_AP_t',\n",
       " 'WBD_MPD_t',\n",
       " 'WBD_ISpermil_t',\n",
       " 'Air_transport_registered_carri_x',\n",
       " 'WBD_PCT_t',\n",
       " 'WBD_GINI_t',\n",
       " 'WBD_discloserI_t',\n",
       " 'WBD_bankasSOC_t',\n",
       " 'WBD_HTE_t',\n",
       " 'WBD_ITE_t',\n",
       " 'WBD_ITR_t',\n",
       " 'WBD_leadtimeE_t',\n",
       " 'WBD_MT_t',\n",
       " 'WBD_strengthLR_t',\n",
       " 'WBD_startup_procedures_t',\n",
       " 'TaxRateCommercialProfit_x',\n",
       " 'WBD_IH_t',\n",
       " 'WBD_NBF_t',\n",
       " 'WBD_RandDspending_t',\n",
       " 'WBD_patentapps_t',\n",
       " 'WBD_TMapps_t',\n",
       " 'WBD_researchersRD_t',\n",
       " 'WBD_year_t',\n",
       " 'WBD_councode',\n",
       " 'WBD_GDPg',\n",
       " 'WBD_GDPpc',\n",
       " 'WBD_eGDP',\n",
       " 'WBD_FDI',\n",
       " 'WBD_SVAasGDP',\n",
       " 'WBD_RPasTP',\n",
       " 'WBD_GPI',\n",
       " 'WBD_co2pc',\n",
       " 'Population_Growth_y',\n",
       " 'WBD_REC',\n",
       " 'WBD_UR',\n",
       " 'Expenditures_on_Education_y',\n",
       " 'WBD_TSE %',\n",
       " 'WBD_WLFP',\n",
       " 'WBD_OME',\n",
       " 'WBD_FE',\n",
       " 'WBD_energyI',\n",
       " 'WBD_MCasGDP',\n",
       " 'WBD_PHE',\n",
       " 'WBD_AP',\n",
       " 'WBD_MPD',\n",
       " 'WBD_ISpermil',\n",
       " 'Air_transport_registered_carri_y',\n",
       " 'WBD_PCT',\n",
       " 'WBD_GINI',\n",
       " 'WBD_discloserI',\n",
       " 'WBD_bankasSOC',\n",
       " 'WBD_HTE',\n",
       " 'WBD_ITE',\n",
       " 'WBD_ITR',\n",
       " 'WBD_leadtimeE',\n",
       " 'WBD_MT',\n",
       " 'WBD_strengthLR',\n",
       " 'WBD_startup_procedures',\n",
       " 'TaxRateCommercialProfit_y',\n",
       " 'WBD_IH',\n",
       " 'WBD_NBF',\n",
       " 'WBD_RandDspending',\n",
       " 'WBD_patentapps',\n",
       " 'WBD_TMapps',\n",
       " 'WBD_researchersRD',\n",
       " 'WBD_year',\n",
       " 'WGI_VA_t',\n",
       " 'WGI_pstabilityNV_t',\n",
       " 'WGI_GE_t',\n",
       " 'WGI_RQ_t',\n",
       " 'WGI_RL_t',\n",
       " 'WGI_CC_t',\n",
       " 'WGI_VA',\n",
       " 'WGI_pstabilityNV',\n",
       " 'WGI_GE',\n",
       " 'WGI_RQ',\n",
       " 'WGI_RL',\n",
       " 'WGI_CC',\n",
       " 'ipri_t',\n",
       " 'ipri']"
      ]
     },
     "execution_count": 18,
     "metadata": {},
     "output_type": "execute_result"
    }
   ],
   "source": [
    "df.sort_index()\n",
    "list(df.columns)"
   ]
  },
  {
   "cell_type": "code",
   "execution_count": 126,
   "metadata": {},
   "outputs": [
    {
     "name": "stdout",
     "output_type": "stream",
     "text": [
      "The row count matches\n"
     ]
    }
   ],
   "source": [
    "if len(df_old) != len(df):\n",
    "    df_year = df_old.loc[df_old.adateyear.isin(['2014','2015','2016','2017','2018','2019'])]\n",
    "    if(len(df) == len(df_year)):\n",
    "        print(\"The row count matches\")\n",
    "    else:\n",
    "        print(\"Needs investigation\")"
   ]
  },
  {
   "cell_type": "code",
   "execution_count": 121,
   "metadata": {},
   "outputs": [
    {
     "data": {
      "text/plain": [
       "22334"
      ]
     },
     "execution_count": 121,
     "metadata": {},
     "output_type": "execute_result"
    }
   ],
   "source": []
  },
  {
   "cell_type": "code",
   "execution_count": 78,
   "metadata": {},
   "outputs": [],
   "source": [
    "Wbd_cols = df.filter(regex=r'^WBD', axis=1).columns"
   ]
  },
  {
   "cell_type": "code",
   "execution_count": 79,
   "metadata": {},
   "outputs": [],
   "source": [
    "wgi_cols = df.filter(regex=r'^WGI', axis=1).columns"
   ]
  },
  {
   "cell_type": "code",
   "execution_count": 80,
   "metadata": {},
   "outputs": [],
   "source": [
    "ipri_cols = df.filter(regex=r'^ipri', axis=1).columns"
   ]
  },
  {
   "cell_type": "code",
   "execution_count": 81,
   "metadata": {},
   "outputs": [
    {
     "data": {
      "text/plain": [
       "Index(['icoun', 'adateyear', 'tcoun'], dtype='object')"
      ]
     },
     "execution_count": 81,
     "metadata": {},
     "output_type": "execute_result"
    }
   ],
   "source": [
    "rest_cols = df.filter(['icoun','adateyear','tcoun'], axis=1).columns\n",
    "rest_cols"
   ]
  },
  {
   "cell_type": "code",
   "execution_count": 82,
   "metadata": {},
   "outputs": [
    {
     "data": {
      "text/plain": [
       "Index(['WBD_councode_t', 'WBD_GDPg_t', 'WBD_GDPpc_t', 'WBD_eGDP_t',\n",
       "       'WBD_FDI_t', 'WBD_SVAasGDP_t', 'WBD_RPasTP_t', 'WBD_GPI_t',\n",
       "       'WBD_co2pc_t', 'WBD_REC_t', 'WBD_UR_t', 'WBD_TSE %_t', 'WBD_WLFP_t',\n",
       "       'WBD_OME_t', 'WBD_FE_t', 'WBD_energyI_t', 'WBD_MCasGDP_t', 'WBD_PHE_t',\n",
       "       'WBD_AP_t', 'WBD_MPD_t', 'WBD_ISpermil_t', 'WBD_PCT_t', 'WBD_GINI_t',\n",
       "       'WBD_discloserI_t', 'WBD_bankasSOC_t', 'WBD_HTE_t', 'WBD_ITE_t',\n",
       "       'WBD_ITR_t', 'WBD_leadtimeE_t', 'WBD_MT_t', 'WBD_strengthLR_t',\n",
       "       'WBD_startup_procedures_t', 'WBD_IH_t', 'WBD_NBF_t',\n",
       "       'WBD_RandDspending_t', 'WBD_patentapps_t', 'WBD_TMapps_t',\n",
       "       'WBD_researchersRD_t', 'WBD_year_t', 'WBD_councode', 'WBD_GDPg',\n",
       "       'WBD_GDPpc', 'WBD_eGDP', 'WBD_FDI', 'WBD_SVAasGDP', 'WBD_RPasTP',\n",
       "       'WBD_GPI', 'WBD_co2pc', 'WBD_REC', 'WBD_UR', 'WBD_TSE %', 'WBD_WLFP',\n",
       "       'WBD_OME', 'WBD_FE', 'WBD_energyI', 'WBD_MCasGDP', 'WBD_PHE', 'WBD_AP',\n",
       "       'WBD_MPD', 'WBD_ISpermil', 'WBD_PCT', 'WBD_GINI', 'WBD_discloserI',\n",
       "       'WBD_bankasSOC', 'WBD_HTE', 'WBD_ITE', 'WBD_ITR', 'WBD_leadtimeE',\n",
       "       'WBD_MT', 'WBD_strengthLR', 'WBD_startup_procedures', 'WBD_IH',\n",
       "       'WBD_NBF', 'WBD_RandDspending', 'WBD_patentapps', 'WBD_TMapps',\n",
       "       'WBD_researchersRD', 'WBD_year', 'WGI_VA_t', 'WGI_pstabilityNV_t',\n",
       "       'WGI_GE_t', 'WGI_RQ_t', 'WGI_RL_t', 'WGI_CC_t', 'WGI_VA',\n",
       "       'WGI_pstabilityNV', 'WGI_GE', 'WGI_RQ', 'WGI_RL', 'WGI_CC', 'ipri_t',\n",
       "       'ipri', 'icoun', 'adateyear', 'tcoun'],\n",
       "      dtype='object')"
      ]
     },
     "execution_count": 82,
     "metadata": {},
     "output_type": "execute_result"
    }
   ],
   "source": [
    "Wbd_cols = Wbd_cols.append(wgi_cols)\n",
    "Wbd_cols = Wbd_cols.append(ipri_cols)\n",
    "Wbd_cols = Wbd_cols.append(rest_cols)\n",
    "Wbd_cols"
   ]
  },
  {
   "cell_type": "code",
   "execution_count": 83,
   "metadata": {},
   "outputs": [
    {
     "data": {
      "text/plain": [
       "WBD_councode_t            CHN\n",
       "WBD_GDPg_t            7.42452\n",
       "WBD_GDPpc_t           12549.8\n",
       "WBD_eGDP_t            23.5101\n",
       "WBD_FDI_t         2.68097e+11\n",
       "                     ...     \n",
       "ipri_t                   5500\n",
       "ipri                     7800\n",
       "icoun               Hong Kong\n",
       "adateyear                2014\n",
       "tcoun                   China\n",
       "Name: 620, Length: 95, dtype: object"
      ]
     },
     "execution_count": 83,
     "metadata": {},
     "output_type": "execute_result"
    }
   ],
   "source": [
    "df_620 = df.loc[620,Wbd_cols]\n",
    "df_620"
   ]
  },
  {
   "cell_type": "code",
   "execution_count": 84,
   "metadata": {},
   "outputs": [],
   "source": [
    "df_5200 = df.loc[5200,Wbd_cols]\n",
    "\n",
    "df_11000 = df.loc[11000,Wbd_cols]\n",
    "\n",
    "df_22333 = df.loc[22333,Wbd_cols]"
   ]
  },
  {
   "cell_type": "markdown",
   "metadata": {},
   "source": [
    "# Test with WBD Data"
   ]
  },
  {
   "cell_type": "code",
   "execution_count": 85,
   "metadata": {},
   "outputs": [],
   "source": [
    "wbd = pd.ExcelFile(\"World Bank Variables Year wise sheet.xlsx\")"
   ]
  },
  {
   "cell_type": "markdown",
   "metadata": {},
   "source": [
    "Get the Deals adateyear and get WBD data for that year"
   ]
  },
  {
   "cell_type": "code",
   "execution_count": 86,
   "metadata": {},
   "outputs": [],
   "source": [
    "wbd_620_i_y = wbd.parse(df_620['adateyear'].astype(int).astype(str))\n",
    "wbd_620_d_y = wbd.parse(df_620['adateyear'].astype(int).astype(str))"
   ]
  },
  {
   "cell_type": "markdown",
   "metadata": {},
   "source": [
    "Now get the data for icountry"
   ]
  },
  {
   "cell_type": "code",
   "execution_count": 87,
   "metadata": {},
   "outputs": [],
   "source": [
    "wbd_620_idata = wbd_620_i_y[df_620['icoun'] == wbd_620_i_y['Country Name']].iloc[0,:]"
   ]
  },
  {
   "cell_type": "markdown",
   "metadata": {},
   "source": [
    "Check for few columns of WBD"
   ]
  },
  {
   "cell_type": "code",
   "execution_count": 88,
   "metadata": {},
   "outputs": [
    {
     "name": "stdout",
     "output_type": "stream",
     "text": [
      "Input Country Data for 620 row matches\n"
     ]
    }
   ],
   "source": [
    "if (wbd_620_idata['GDP_Growth'].round(4) == df_620['WBD_GDPg'].round(4)) or (np.isnan(wbd_620_idata['GDP_Growth']) & np.isnan(df_620['WBD_GDPg'])):\n",
    "    if (wbd_620_idata['GINI'].round(4) == df_620['WBD_GINI'].round(4)):\n",
    "        print(\"Input Country Data for 620 row matches\")\n",
    "    else:\n",
    "        if(np.isnan(wbd_620_idata['GINI']) & np.isnan(df_620['WBD_GINI'])):\n",
    "           print(\"Input Country Data for 620 row matches\")\n",
    "        else:\n",
    "          print(\"Check the row data. Mismatched\")\n",
    "else:\n",
    "    print(\"Check the row data. Mismatched\")"
   ]
  },
  {
   "cell_type": "code",
   "execution_count": 89,
   "metadata": {},
   "outputs": [
    {
     "name": "stdout",
     "output_type": "stream",
     "text": [
      "Destination Country Data for 620 row matches\n"
     ]
    }
   ],
   "source": [
    "wbd_620_ddata = wbd_620_d_y[df_620['tcoun'] == wbd_620_d_y['Country Name']].iloc[0,:]\n",
    "if wbd_620_ddata['GDP_Growth'].round(4) == df_620['WBD_GDPg_t'].round(4):\n",
    "    if (wbd_620_ddata['GINI'].round(4) == df_620['WBD_GINI_t'].round(4)):\n",
    "        print(\"Destination Country Data for 620 row matches\")\n",
    "    else:\n",
    "        if(np.isnan(wbd_620_ddata['GINI']) & np.isnan(df_620['WBD_GINI_t'])):\n",
    "           print(\"Destination Country Data for 620 row matches\")\n",
    "        else: \n",
    "           print(\"Check the row data. Mismatched\")"
   ]
  },
  {
   "cell_type": "code",
   "execution_count": 90,
   "metadata": {},
   "outputs": [],
   "source": [
    "wbd_5200_i_y = wbd.parse(df_5200['adateyear'].astype(int).astype(str))\n",
    "wbd_5200_d_y = wbd.parse(df_5200['adateyear'].astype(int).astype(str))"
   ]
  },
  {
   "cell_type": "code",
   "execution_count": 91,
   "metadata": {},
   "outputs": [
    {
     "name": "stdout",
     "output_type": "stream",
     "text": [
      "Input Country Data for 5200 row matches\n"
     ]
    }
   ],
   "source": [
    "wbd_5200_idata = wbd_5200_i_y[df_5200['icoun'] == wbd_5200_i_y['Country Name']].iloc[0,:]\n",
    "if (wbd_5200_idata['GDP_Growth'].round(4) == df_5200['WBD_GDPg'].round(4)) or (np.isnan(wbd_5200_idata['GDP_Growth']) & np.isnan(df_5200['WBD_GDPg'])):\n",
    "    if (wbd_5200_idata['GINI'].round(4) == df_5200['WBD_GINI'].round(4)):\n",
    "        print(\"Input Country Data for 5200 row matches\")\n",
    "    else:\n",
    "        if(np.isnan(wbd_5200_idata['GINI']) & np.isnan(df_5200['WBD_GINI'])):\n",
    "           print(\"Input Country Data for 5200 row matches\")\n",
    "        else:\n",
    "          print(\"Check the row data. Mismatched\")\n",
    "else:\n",
    "    print(\"Check the row data. Mismatched\")"
   ]
  },
  {
   "cell_type": "code",
   "execution_count": 92,
   "metadata": {},
   "outputs": [
    {
     "name": "stdout",
     "output_type": "stream",
     "text": [
      "Destination Country Data for 5200 row matches\n"
     ]
    }
   ],
   "source": [
    "wbd_5200_ddata = wbd_5200_d_y[df_5200['tcoun'] == wbd_5200_d_y['Country Name']].iloc[0,:]\n",
    "if wbd_5200_ddata['GDP_Growth'].round(4) == df_5200['WBD_GDPg_t'].round(4):\n",
    "    if (wbd_5200_ddata['GINI'].round(4) == df_5200['WBD_GINI_t'].round(4)):\n",
    "        print(\"Destination Country Data for 5200 row matches\")\n",
    "    else:\n",
    "        if(np.isnan(wbd_5200_ddata['GINI']) & np.isnan(df_5200['WBD_GINI_t'])):\n",
    "           print(\"Destination Country Data for 5200 row matches\")\n",
    "        else: \n",
    "           print(\"Check the row data. Mismatched\")"
   ]
  },
  {
   "cell_type": "code",
   "execution_count": 93,
   "metadata": {},
   "outputs": [],
   "source": [
    "wbd_11000_i_y = wbd.parse(df_11000['adateyear'].astype(int).astype(str))\n",
    "wbd_11000_d_y = wbd.parse(df_11000['adateyear'].astype(int).astype(str))"
   ]
  },
  {
   "cell_type": "code",
   "execution_count": 94,
   "metadata": {},
   "outputs": [
    {
     "name": "stdout",
     "output_type": "stream",
     "text": [
      "Input Country Data for 11000 row matches\n"
     ]
    }
   ],
   "source": [
    "wbd_11000_idata = wbd_11000_i_y[df_11000['icoun'] == wbd_11000_i_y['Country Name']].iloc[0,:]\n",
    "if (wbd_11000_idata['GDP_Growth'].round(4) == df_11000['WBD_GDPg'].round(4)) or (np.isnan(wbd_11000_idata['GDP_Growth']) & np.isnan(df_11000['WBD_GDPg'])):\n",
    "    if (wbd_11000_idata['GINI'].round(4) == df_11000['WBD_GINI'].round(4)):\n",
    "        print(\"Input Country Data for 11000 row matches\")\n",
    "    else:\n",
    "        if(np.isnan(wbd_11000_idata['GINI']) & np.isnan(df_11000['WBD_GINI'])):\n",
    "           print(\"Input Country Data for 11000 row matches\")\n",
    "        else:\n",
    "          print(\"Check the row data. Mismatched\")\n",
    "else:\n",
    "    print(\"Check the row data. Mismatched\")"
   ]
  },
  {
   "cell_type": "code",
   "execution_count": 95,
   "metadata": {},
   "outputs": [
    {
     "name": "stdout",
     "output_type": "stream",
     "text": [
      "Destination Country Data for 11000 row matches\n"
     ]
    }
   ],
   "source": [
    "wbd_11000_ddata = wbd_11000_d_y[df_11000['tcoun'] == wbd_11000_d_y['Country Name']].iloc[0,:]\n",
    "if wbd_11000_ddata['GDP_Growth'].round(4) == df_11000['WBD_GDPg_t'].round(4):\n",
    "    if (wbd_11000_ddata['GINI'].round(4) == df_11000['WBD_GINI_t'].round(4)):\n",
    "        print(\"Destination Country Data for 11000 row matches\")\n",
    "    else:\n",
    "        if(np.isnan(wbd_11000_ddata['GINI']) & np.isnan(df_11000['WBD_GINI_t'])):\n",
    "           print(\"Destination Country Data for 11000 row matches\")\n",
    "        else: \n",
    "           print(\"Check the row data. Mismatched\")"
   ]
  },
  {
   "cell_type": "code",
   "execution_count": 96,
   "metadata": {},
   "outputs": [],
   "source": [
    "wbd_22333_i_y = wbd.parse(df_22333['adateyear'].astype(int).astype(str))\n",
    "wbd_22333_d_y = wbd.parse(df_22333['adateyear'].astype(int).astype(str))"
   ]
  },
  {
   "cell_type": "code",
   "execution_count": 97,
   "metadata": {},
   "outputs": [
    {
     "name": "stdout",
     "output_type": "stream",
     "text": [
      "Input Country Data for 22333 row matches\n"
     ]
    }
   ],
   "source": [
    "wbd_22333_idata = wbd_22333_i_y[df_22333['icoun'] == wbd_22333_i_y['Country Name']].iloc[0,:]\n",
    "if (wbd_22333_idata['GDP_Growth'].round(4) == df_22333['WBD_GDPg'].round(4)) or (np.isnan(wbd_22333_idata['GDP_Growth']) & np.isnan(df_22333['WBD_GDPg'])):\n",
    "    if (wbd_22333_idata['GINI'].round(4) == df_22333['WBD_GINI'].round(4)):\n",
    "        print(\"Input Country Data for 22333 row matches\")\n",
    "    else:\n",
    "        if(np.isnan(wbd_22333_idata['GINI']) & np.isnan(df_22333['WBD_GINI'])):\n",
    "           print(\"Input Country Data for 22333 row matches\")\n",
    "        else:\n",
    "          print(\"Check the row data. Mismatched\")\n",
    "else:\n",
    "    print(\"Check the row data. Mismatched\")"
   ]
  },
  {
   "cell_type": "code",
   "execution_count": 98,
   "metadata": {},
   "outputs": [
    {
     "name": "stdout",
     "output_type": "stream",
     "text": [
      "Destination Country Data for 22333 row matches\n"
     ]
    }
   ],
   "source": [
    "wbd_22333_ddata = wbd_22333_d_y[df_22333['tcoun'] == wbd_22333_d_y['Country Name']].iloc[0,:]\n",
    "if wbd_22333_ddata['GDP_Growth'].round(4) == df_22333['WBD_GDPg_t'].round(4):\n",
    "    if (wbd_22333_ddata['GINI'].round(4) == df_22333['WBD_GINI_t'].round(4)):\n",
    "        print(\"Destination Country Data for 22333 row matches\")\n",
    "    else:\n",
    "        if(np.isnan(wbd_22333_ddata['GINI']) & np.isnan(df_22333['WBD_GINI_t'])):\n",
    "           print(\"Destination Country Data for 22333 row matches\")\n",
    "        else: \n",
    "           print(\"Check the row data. Mismatched\")"
   ]
  },
  {
   "cell_type": "markdown",
   "metadata": {},
   "source": [
    "# Test WGI Data"
   ]
  },
  {
   "cell_type": "code",
   "execution_count": 99,
   "metadata": {},
   "outputs": [],
   "source": [
    "wgi = pd.ExcelFile(\"WGI_yearwise.xlsx\")"
   ]
  },
  {
   "cell_type": "code",
   "execution_count": 100,
   "metadata": {},
   "outputs": [],
   "source": [
    "wgi_620_i_y = wgi.parse(df_620['adateyear'].astype(int).astype(str))\n",
    "wgi_620_d_y = wgi.parse(df_620['adateyear'].astype(int).astype(str))"
   ]
  },
  {
   "cell_type": "code",
   "execution_count": 101,
   "metadata": {},
   "outputs": [
    {
     "data": {
      "text/html": [
       "<div>\n",
       "<style scoped>\n",
       "    .dataframe tbody tr th:only-of-type {\n",
       "        vertical-align: middle;\n",
       "    }\n",
       "\n",
       "    .dataframe tbody tr th {\n",
       "        vertical-align: top;\n",
       "    }\n",
       "\n",
       "    .dataframe thead th {\n",
       "        text-align: right;\n",
       "    }\n",
       "</style>\n",
       "<table border=\"1\" class=\"dataframe\">\n",
       "  <thead>\n",
       "    <tr style=\"text-align: right;\">\n",
       "      <th></th>\n",
       "      <th>Countr</th>\n",
       "      <th>WGI_VA</th>\n",
       "      <th>WGI_pstabilityNV</th>\n",
       "      <th>WGI_GE</th>\n",
       "      <th>WGI_RQ</th>\n",
       "      <th>WGI_RL</th>\n",
       "      <th>WGI_CC</th>\n",
       "    </tr>\n",
       "  </thead>\n",
       "  <tbody>\n",
       "    <tr>\n",
       "      <th>0</th>\n",
       "      <td>Aruba</td>\n",
       "      <td>1.276822</td>\n",
       "      <td>1.164568</td>\n",
       "      <td>0.891651</td>\n",
       "      <td>1.250432</td>\n",
       "      <td>1.038312</td>\n",
       "      <td>1.018918</td>\n",
       "    </tr>\n",
       "    <tr>\n",
       "      <th>1</th>\n",
       "      <td>Andorra</td>\n",
       "      <td>1.165939</td>\n",
       "      <td>1.286593</td>\n",
       "      <td>1.718336</td>\n",
       "      <td>0.885067</td>\n",
       "      <td>1.641953</td>\n",
       "      <td>1.225222</td>\n",
       "    </tr>\n",
       "    <tr>\n",
       "      <th>2</th>\n",
       "      <td>Afghanistan</td>\n",
       "      <td>-1.135445</td>\n",
       "      <td>-2.411068</td>\n",
       "      <td>-1.331396</td>\n",
       "      <td>-1.118182</td>\n",
       "      <td>-1.445648</td>\n",
       "      <td>-1.354784</td>\n",
       "    </tr>\n",
       "    <tr>\n",
       "      <th>3</th>\n",
       "      <td>Angola</td>\n",
       "      <td>-1.145494</td>\n",
       "      <td>-0.333232</td>\n",
       "      <td>-1.123669</td>\n",
       "      <td>-0.988459</td>\n",
       "      <td>-1.118136</td>\n",
       "      <td>-1.443890</td>\n",
       "    </tr>\n",
       "    <tr>\n",
       "      <th>4</th>\n",
       "      <td>Anguilla</td>\n",
       "      <td>NaN</td>\n",
       "      <td>1.164255</td>\n",
       "      <td>0.952229</td>\n",
       "      <td>0.885067</td>\n",
       "      <td>0.018863</td>\n",
       "      <td>1.225222</td>\n",
       "    </tr>\n",
       "    <tr>\n",
       "      <th>...</th>\n",
       "      <td>...</td>\n",
       "      <td>...</td>\n",
       "      <td>...</td>\n",
       "      <td>...</td>\n",
       "      <td>...</td>\n",
       "      <td>...</td>\n",
       "      <td>...</td>\n",
       "    </tr>\n",
       "    <tr>\n",
       "      <th>209</th>\n",
       "      <td>Serbia</td>\n",
       "      <td>0.212611</td>\n",
       "      <td>0.184111</td>\n",
       "      <td>0.089617</td>\n",
       "      <td>0.141216</td>\n",
       "      <td>-0.149682</td>\n",
       "      <td>-0.226996</td>\n",
       "    </tr>\n",
       "    <tr>\n",
       "      <th>210</th>\n",
       "      <td>South Africa</td>\n",
       "      <td>0.642118</td>\n",
       "      <td>-0.146389</td>\n",
       "      <td>0.341089</td>\n",
       "      <td>0.287686</td>\n",
       "      <td>0.182790</td>\n",
       "      <td>-0.061535</td>\n",
       "    </tr>\n",
       "    <tr>\n",
       "      <th>211</th>\n",
       "      <td>Democratic Republic of the Congo</td>\n",
       "      <td>-1.286678</td>\n",
       "      <td>-2.167921</td>\n",
       "      <td>-1.561380</td>\n",
       "      <td>-1.362629</td>\n",
       "      <td>-1.451048</td>\n",
       "      <td>-1.300999</td>\n",
       "    </tr>\n",
       "    <tr>\n",
       "      <th>212</th>\n",
       "      <td>Zambia</td>\n",
       "      <td>-0.109601</td>\n",
       "      <td>0.156212</td>\n",
       "      <td>-0.499575</td>\n",
       "      <td>-0.503428</td>\n",
       "      <td>-0.236549</td>\n",
       "      <td>-0.342243</td>\n",
       "    </tr>\n",
       "    <tr>\n",
       "      <th>213</th>\n",
       "      <td>Zimbabwe</td>\n",
       "      <td>-1.256964</td>\n",
       "      <td>-0.713570</td>\n",
       "      <td>-1.210598</td>\n",
       "      <td>-1.903126</td>\n",
       "      <td>-1.431254</td>\n",
       "      <td>-1.391291</td>\n",
       "    </tr>\n",
       "  </tbody>\n",
       "</table>\n",
       "<p>214 rows × 7 columns</p>\n",
       "</div>"
      ],
      "text/plain": [
       "                               Countr    WGI_VA  WGI_pstabilityNV    WGI_GE  \\\n",
       "0                               Aruba  1.276822          1.164568  0.891651   \n",
       "1                             Andorra  1.165939          1.286593  1.718336   \n",
       "2                         Afghanistan -1.135445         -2.411068 -1.331396   \n",
       "3                              Angola -1.145494         -0.333232 -1.123669   \n",
       "4                            Anguilla       NaN          1.164255  0.952229   \n",
       "..                                ...       ...               ...       ...   \n",
       "209                            Serbia  0.212611          0.184111  0.089617   \n",
       "210                      South Africa  0.642118         -0.146389  0.341089   \n",
       "211  Democratic Republic of the Congo -1.286678         -2.167921 -1.561380   \n",
       "212                            Zambia -0.109601          0.156212 -0.499575   \n",
       "213                          Zimbabwe -1.256964         -0.713570 -1.210598   \n",
       "\n",
       "       WGI_RQ    WGI_RL    WGI_CC  \n",
       "0    1.250432  1.038312  1.018918  \n",
       "1    0.885067  1.641953  1.225222  \n",
       "2   -1.118182 -1.445648 -1.354784  \n",
       "3   -0.988459 -1.118136 -1.443890  \n",
       "4    0.885067  0.018863  1.225222  \n",
       "..        ...       ...       ...  \n",
       "209  0.141216 -0.149682 -0.226996  \n",
       "210  0.287686  0.182790 -0.061535  \n",
       "211 -1.362629 -1.451048 -1.300999  \n",
       "212 -0.503428 -0.236549 -0.342243  \n",
       "213 -1.903126 -1.431254 -1.391291  \n",
       "\n",
       "[214 rows x 7 columns]"
      ]
     },
     "execution_count": 101,
     "metadata": {},
     "output_type": "execute_result"
    }
   ],
   "source": [
    "wgi_620_i_y"
   ]
  },
  {
   "cell_type": "code",
   "execution_count": 102,
   "metadata": {},
   "outputs": [
    {
     "data": {
      "text/plain": [
       "0.5356985330581665"
      ]
     },
     "execution_count": 102,
     "metadata": {},
     "output_type": "execute_result"
    }
   ],
   "source": [
    "wgi_620_idata = wgi_620_i_y[df_620['icoun'] == wgi_620_i_y['Countr']].iloc[0,:]"
   ]
  },
  {
   "cell_type": "code",
   "execution_count": 104,
   "metadata": {},
   "outputs": [
    {
     "name": "stdout",
     "output_type": "stream",
     "text": [
      "Input Country Data for 620 row matches\n"
     ]
    }
   ],
   "source": [
    "wgi_620_idata = wgi_620_i_y[df_620['icoun'] == wgi_620_i_y['Countr']].iloc[0,:]\n",
    "if ((wgi_620_idata['WGI_CC'].round(4) == df_620['WGI_CC'].round(4)) | (np.isnan(wgi_620_idata['WGI_CC']) & np.isnan(df_620['WGI_CC']))):\n",
    "    if ((wgi_620_idata['WGI_VA'].round(4) == df_620['WGI_VA'].round(4)) | (np.isnan(wgi_620_idata['WGI_VA']) & np.isnan(df_620['WGI_VA']))):\n",
    "        print(\"Input Country Data for 620 row matches\")\n",
    "    else:\n",
    "          print(\"Check the row data. Mismatched\")\n",
    "else:\n",
    "    print(\"Check the row data. Mismatched\")"
   ]
  },
  {
   "cell_type": "code",
   "execution_count": 106,
   "metadata": {},
   "outputs": [
    {
     "name": "stdout",
     "output_type": "stream",
     "text": [
      "Destination Country Data for 620 row matches\n"
     ]
    }
   ],
   "source": [
    "wgi_620_ddata = wgi_620_i_y[df_620['tcoun'] == wgi_620_i_y['Countr']].iloc[0,:]\n",
    "if ((wgi_620_ddata['WGI_CC'].round(4) == df_620['WGI_CC_t'].round(4)) | (np.isnan(wgi_620_ddata['WGI_CC']) & np.isnan(df_620['WGI_CC_t']))):\n",
    "    if ((wgi_620_ddata['WGI_VA'].round(4) == df_620['WGI_VA_t'].round(4)) |(np.isnan(wgi_620_ddata['WGI_VA']) & np.isnan(df_620['WGI_VA_t']))):\n",
    "        print(\"Destination Country Data for 620 row matches\")\n",
    "    else:\n",
    "          print(\"Check the row data. Mismatched\")\n",
    "else:\n",
    "    print(\"Check the row data. Mismatched\")"
   ]
  },
  {
   "cell_type": "code",
   "execution_count": 107,
   "metadata": {},
   "outputs": [],
   "source": [
    "wgi_5200_i_y = wgi.parse(df_5200['adateyear'].astype(int).astype(str))\n",
    "wgi_5200_d_y = wgi.parse(df_5200['adateyear'].astype(int).astype(str))"
   ]
  },
  {
   "cell_type": "code",
   "execution_count": 108,
   "metadata": {},
   "outputs": [
    {
     "name": "stdout",
     "output_type": "stream",
     "text": [
      "Input Country Data for 5200 row matches\n"
     ]
    }
   ],
   "source": [
    "wgi_5200_idata = wgi_5200_i_y[df_5200['icoun'] == wgi_5200_i_y['Countr']].iloc[0,:]\n",
    "wgi_5200_idata = wgi_5200_i_y[df_5200['icoun'] == wgi_5200_i_y['Countr']].iloc[0,:]\n",
    "if ((wgi_5200_idata['WGI_CC'].round(4) == df_5200['WGI_CC'].round(4)) | (np.isnan(wgi_5200_idata['WGI_CC']) & np.isnan(df_5200['WGI_CC']))):\n",
    "    if ((wgi_5200_idata['WGI_VA'].round(4) == df_5200['WGI_VA'].round(4)) | (np.isnan(wgi_5200_idata['WGI_VA']) & np.isnan(df_5200['WGI_VA']))):\n",
    "        print(\"Input Country Data for 5200 row matches\")\n",
    "    else:\n",
    "          print(\"Check the row data. Mismatched\")\n",
    "else:\n",
    "    print(\"Check the row data. Mismatched\")"
   ]
  },
  {
   "cell_type": "code",
   "execution_count": 109,
   "metadata": {},
   "outputs": [
    {
     "name": "stdout",
     "output_type": "stream",
     "text": [
      "Destination Country Data for 5200 row matches\n"
     ]
    }
   ],
   "source": [
    "wgi_5200_ddata = wgi_5200_i_y[df_5200['tcoun'] == wgi_5200_i_y['Countr']].iloc[0,:]\n",
    "if ((wgi_5200_ddata['WGI_CC'].round(4) == df_5200['WGI_CC_t'].round(4)) | (np.isnan(wgi_5200_ddata['WGI_CC']) & np.isnan(df_5200['WGI_CC_t']))):\n",
    "    if ((wgi_5200_ddata['WGI_VA'].round(4) == df_5200['WGI_VA_t'].round(4)) |(np.isnan(wgi_5200_ddata['WGI_VA']) & np.isnan(df_5200['WGI_VA_t']))):\n",
    "        print(\"Destination Country Data for 5200 row matches\")\n",
    "    else:\n",
    "          print(\"Check the row data. Mismatched\")\n",
    "else:\n",
    "    print(\"Check the row data. Mismatched\")"
   ]
  },
  {
   "cell_type": "code",
   "execution_count": 110,
   "metadata": {},
   "outputs": [],
   "source": [
    "wgi_11000_i_y = wgi.parse(df_11000['adateyear'].astype(int).astype(str))\n",
    "wgi_11000_d_y = wgi.parse(df_11000['adateyear'].astype(int).astype(str))"
   ]
  },
  {
   "cell_type": "code",
   "execution_count": 111,
   "metadata": {},
   "outputs": [
    {
     "name": "stdout",
     "output_type": "stream",
     "text": [
      "Input Country Data for 11000 row matches\n"
     ]
    }
   ],
   "source": [
    "wgi_11000_idata = wgi_11000_i_y[df_11000['icoun'] == wgi_11000_i_y['Countr']].iloc[0,:]\n",
    "wgi_11000_idata = wgi_11000_i_y[df_11000['icoun'] == wgi_11000_i_y['Countr']].iloc[0,:]\n",
    "if ((wgi_11000_idata['WGI_CC'].round(4) == df_11000['WGI_CC'].round(4)) | (np.isnan(wgi_11000_idata['WGI_CC']) & np.isnan(df_11000['WGI_CC']))):\n",
    "    if ((wgi_11000_idata['WGI_VA'].round(4) == df_11000['WGI_VA'].round(4)) | (np.isnan(wgi_11000_idata['WGI_VA']) & np.isnan(df_11000['WGI_VA']))):\n",
    "        print(\"Input Country Data for 11000 row matches\")\n",
    "    else:\n",
    "          print(\"Check the row data. Mismatched\")\n",
    "else:\n",
    "    print(\"Check the row data. Mismatched\")"
   ]
  },
  {
   "cell_type": "code",
   "execution_count": 112,
   "metadata": {},
   "outputs": [
    {
     "name": "stdout",
     "output_type": "stream",
     "text": [
      "Destination Country Data for 11000 row matches\n"
     ]
    }
   ],
   "source": [
    "wgi_11000_ddata = wgi_11000_i_y[df_11000['tcoun'] == wgi_11000_i_y['Countr']].iloc[0,:]\n",
    "if ((wgi_11000_ddata['WGI_CC'].round(4) == df_11000['WGI_CC_t'].round(4)) | (np.isnan(wgi_11000_ddata['WGI_CC']) & np.isnan(df_11000['WGI_CC_t']))):\n",
    "    if ((wgi_11000_ddata['WGI_VA'].round(4) == df_11000['WGI_VA_t'].round(4)) |(np.isnan(wgi_11000_ddata['WGI_VA']) & np.isnan(df_11000['WGI_VA_t']))):\n",
    "        print(\"Destination Country Data for 11000 row matches\")\n",
    "    else:\n",
    "          print(\"Check the row data. Mismatched\")\n",
    "else:\n",
    "    print(\"Check the row data. Mismatched\")"
   ]
  },
  {
   "cell_type": "code",
   "execution_count": 113,
   "metadata": {},
   "outputs": [],
   "source": [
    "wgi_22333_i_y = wgi.parse(df_22333['adateyear'].astype(int).astype(str))\n",
    "wgi_22333_d_y = wgi.parse(df_22333['adateyear'].astype(int).astype(str))"
   ]
  },
  {
   "cell_type": "code",
   "execution_count": 114,
   "metadata": {},
   "outputs": [
    {
     "name": "stdout",
     "output_type": "stream",
     "text": [
      "Input Country Data for 22333 row matches\n"
     ]
    }
   ],
   "source": [
    "wgi_22333_idata = wgi_22333_i_y[df_22333['icoun'] == wgi_22333_i_y['Countr']].iloc[0,:]\n",
    "wgi_22333_idata = wgi_22333_i_y[df_22333['icoun'] == wgi_22333_i_y['Countr']].iloc[0,:]\n",
    "if ((wgi_22333_idata['WGI_CC'].round(4) == df_22333['WGI_CC'].round(4)) | (np.isnan(wgi_22333_idata['WGI_CC']) & np.isnan(df_22333['WGI_CC']))):\n",
    "    if ((wgi_22333_idata['WGI_VA'].round(4) == df_22333['WGI_VA'].round(4)) | (np.isnan(wgi_22333_idata['WGI_VA']) & np.isnan(df_22333['WGI_VA']))):\n",
    "        print(\"Input Country Data for 22333 row matches\")\n",
    "    else:\n",
    "          print(\"Check the row data. Mismatched\")\n",
    "else:\n",
    "    print(\"Check the row data. Mismatched\")"
   ]
  },
  {
   "cell_type": "code",
   "execution_count": 115,
   "metadata": {},
   "outputs": [
    {
     "name": "stdout",
     "output_type": "stream",
     "text": [
      "Destination Country Data for 22333 row matches\n"
     ]
    }
   ],
   "source": [
    "wgi_22333_ddata = wgi_22333_i_y[df_22333['tcoun'] == wgi_22333_i_y['Countr']].iloc[0,:]\n",
    "if ((wgi_22333_ddata['WGI_CC'].round(4) == df_22333['WGI_CC_t'].round(4)) | (np.isnan(wgi_22333_ddata['WGI_CC']) & np.isnan(df_22333['WGI_CC_t']))):\n",
    "    if ((wgi_22333_ddata['WGI_VA'].round(4) == df_22333['WGI_VA_t'].round(4)) |(np.isnan(wgi_22333_ddata['WGI_VA']) & np.isnan(df_22333['WGI_VA_t']))):\n",
    "        print(\"Destination Country Data for 22333 row matches\")\n",
    "    else:\n",
    "          print(\"Check the row data. Mismatched\")\n",
    "else:\n",
    "    print(\"Check the row data. Mismatched\")"
   ]
  },
  {
   "cell_type": "markdown",
   "metadata": {},
   "source": [
    "# Test IPRI"
   ]
  },
  {
   "cell_type": "code",
   "execution_count": 128,
   "metadata": {},
   "outputs": [],
   "source": [
    "ipri = pd.read_excel(\"International Property Rights Index.xlsx\")"
   ]
  },
  {
   "cell_type": "code",
   "execution_count": 129,
   "metadata": {},
   "outputs": [],
   "source": [
    "ipri_cols =  [col for col in ipri if col.startswith('Score')]\n",
    "\n",
    "\n",
    "ipri_selected = ipri[ipri_cols]\n",
    "\n",
    "ipri_selected = ipri_selected.rename(columns = lambda x: x.split(' ')[1])\n",
    "ipri_selected['Countries'] = ipri['Countries']\n"
   ]
  },
  {
   "cell_type": "code",
   "execution_count": 130,
   "metadata": {},
   "outputs": [
    {
     "data": {
      "text/html": [
       "<div>\n",
       "<style scoped>\n",
       "    .dataframe tbody tr th:only-of-type {\n",
       "        vertical-align: middle;\n",
       "    }\n",
       "\n",
       "    .dataframe tbody tr th {\n",
       "        vertical-align: top;\n",
       "    }\n",
       "\n",
       "    .dataframe thead th {\n",
       "        text-align: right;\n",
       "    }\n",
       "</style>\n",
       "<table border=\"1\" class=\"dataframe\">\n",
       "  <thead>\n",
       "    <tr style=\"text-align: right;\">\n",
       "      <th></th>\n",
       "      <th>Countries</th>\n",
       "      <th>ipri</th>\n",
       "    </tr>\n",
       "  </thead>\n",
       "  <tbody>\n",
       "    <tr>\n",
       "      <th>0</th>\n",
       "      <td>Albania</td>\n",
       "      <td>n.a.</td>\n",
       "    </tr>\n",
       "    <tr>\n",
       "      <th>1</th>\n",
       "      <td>Algeria</td>\n",
       "      <td>4100</td>\n",
       "    </tr>\n",
       "    <tr>\n",
       "      <th>2</th>\n",
       "      <td>Angola</td>\n",
       "      <td>n.a</td>\n",
       "    </tr>\n",
       "    <tr>\n",
       "      <th>3</th>\n",
       "      <td>Argentina</td>\n",
       "      <td>4400</td>\n",
       "    </tr>\n",
       "    <tr>\n",
       "      <th>4</th>\n",
       "      <td>Armenia</td>\n",
       "      <td>n.a.</td>\n",
       "    </tr>\n",
       "    <tr>\n",
       "      <th>...</th>\n",
       "      <td>...</td>\n",
       "      <td>...</td>\n",
       "    </tr>\n",
       "    <tr>\n",
       "      <th>127</th>\n",
       "      <td>Vietnam</td>\n",
       "      <td>4800</td>\n",
       "    </tr>\n",
       "    <tr>\n",
       "      <th>128</th>\n",
       "      <td>Yemen, Rep.</td>\n",
       "      <td>n.a.</td>\n",
       "    </tr>\n",
       "    <tr>\n",
       "      <th>129</th>\n",
       "      <td>Zambia</td>\n",
       "      <td>5100</td>\n",
       "    </tr>\n",
       "    <tr>\n",
       "      <th>130</th>\n",
       "      <td>Zimbabwe</td>\n",
       "      <td>3800</td>\n",
       "    </tr>\n",
       "    <tr>\n",
       "      <th>131</th>\n",
       "      <td>n.a</td>\n",
       "      <td>n.a.</td>\n",
       "    </tr>\n",
       "  </tbody>\n",
       "</table>\n",
       "<p>132 rows × 2 columns</p>\n",
       "</div>"
      ],
      "text/plain": [
       "       Countries  ipri\n",
       "0        Albania  n.a.\n",
       "1        Algeria  4100\n",
       "2         Angola   n.a\n",
       "3      Argentina  4400\n",
       "4        Armenia  n.a.\n",
       "..           ...   ...\n",
       "127      Vietnam  4800\n",
       "128  Yemen, Rep.  n.a.\n",
       "129       Zambia  5100\n",
       "130     Zimbabwe  3800\n",
       "131          n.a  n.a.\n",
       "\n",
       "[132 rows x 2 columns]"
      ]
     },
     "execution_count": 130,
     "metadata": {},
     "output_type": "execute_result"
    }
   ],
   "source": [
    "ipri_s = ipri_selected[['Countries',df_620['adateyear'].astype(int).astype(str)]]\n",
    "ipri_s = ipri_s.rename(columns={df_620['adateyear'].astype(int).astype(str):'ipri'})\n",
    "ipri_s"
   ]
  },
  {
   "cell_type": "code",
   "execution_count": 134,
   "metadata": {},
   "outputs": [
    {
     "name": "stdout",
     "output_type": "stream",
     "text": [
      "The IPRI value for origin is matching\n"
     ]
    }
   ],
   "source": [
    "ipri_icoun = ipri_s[df_620['icoun'] == ipri_s['Countries']].iloc[0,:]\n",
    "if (ipri_icoun['ipri'] == int(df_620['ipri']) ):\n",
    "    print(\"The IPRI value for origin is matching\")\n",
    "else:\n",
    "    print(\"Check the Origin IPRI not matching\")\n"
   ]
  },
  {
   "cell_type": "code",
   "execution_count": 137,
   "metadata": {},
   "outputs": [
    {
     "name": "stdout",
     "output_type": "stream",
     "text": [
      "The IPRI value for destination is matching\n"
     ]
    }
   ],
   "source": [
    "ipri_dcoun = ipri_s[df_620['tcoun'] == ipri_s['Countries']].iloc[0,:]\n",
    "if (ipri_dcoun['ipri'] == int(df_620['ipri_t']) ):\n",
    "    print(\"The IPRI value for destination is matching\")\n",
    "else:\n",
    "    print(\"Check the Destination IPRI not matching\")"
   ]
  },
  {
   "cell_type": "code",
   "execution_count": 138,
   "metadata": {},
   "outputs": [
    {
     "name": "stdout",
     "output_type": "stream",
     "text": [
      "The IPRI value for origin is matching\n",
      "The IPRI value for destination is matching\n"
     ]
    }
   ],
   "source": [
    "ipri_s = ipri_selected[['Countries',df_5200['adateyear'].astype(int).astype(str)]]\n",
    "ipri_s = ipri_s.rename(columns={df_5200['adateyear'].astype(int).astype(str):'ipri'})\n",
    "\n",
    "ipri_icoun = ipri_s[df_5200['icoun'] == ipri_s['Countries']].iloc[0,:]\n",
    "if (ipri_icoun['ipri'] == int(df_5200['ipri']) ):\n",
    "    print(\"The IPRI value for origin is matching\")\n",
    "else:\n",
    "    print(\"Check the Origin IPRI not matching\")\n",
    "\n",
    "\n",
    "ipri_dcoun = ipri_s[df_5200['tcoun'] == ipri_s['Countries']].iloc[0,:]\n",
    "if (ipri_dcoun['ipri'] == int(df_5200['ipri_t']) ):\n",
    "    print(\"The IPRI value for destination is matching\")\n",
    "else:\n",
    "    print(\"Check the Destination IPRI not matching\")"
   ]
  },
  {
   "cell_type": "code",
   "execution_count": 139,
   "metadata": {},
   "outputs": [
    {
     "name": "stdout",
     "output_type": "stream",
     "text": [
      "The IPRI value for origin is matching\n",
      "The IPRI value for destination is matching\n"
     ]
    }
   ],
   "source": [
    "ipri_s = ipri_selected[['Countries',df_11000['adateyear'].astype(int).astype(str)]]\n",
    "ipri_s = ipri_s.rename(columns={df_11000['adateyear'].astype(int).astype(str):'ipri'})\n",
    "\n",
    "ipri_icoun = ipri_s[df_11000['icoun'] == ipri_s['Countries']].iloc[0,:]\n",
    "if (ipri_icoun['ipri'] == int(df_11000['ipri']) ):\n",
    "    print(\"The IPRI value for origin is matching\")\n",
    "else:\n",
    "    print(\"Check the Origin IPRI not matching\")\n",
    "\n",
    "\n",
    "ipri_dcoun = ipri_s[df_11000['tcoun'] == ipri_s['Countries']].iloc[0,:]\n",
    "if (ipri_dcoun['ipri'] == int(df_11000['ipri_t']) ):\n",
    "    print(\"The IPRI value for destination is matching\")\n",
    "else:\n",
    "    print(\"Check the Destination IPRI not matching\")"
   ]
  },
  {
   "cell_type": "code",
   "execution_count": 140,
   "metadata": {},
   "outputs": [
    {
     "name": "stdout",
     "output_type": "stream",
     "text": [
      "The IPRI value for origin is matching\n",
      "The IPRI value for destination is matching\n"
     ]
    }
   ],
   "source": [
    "ipri_s = ipri_selected[['Countries',df_22333['adateyear'].astype(int).astype(str)]]\n",
    "ipri_s = ipri_s.rename(columns={df_22333['adateyear'].astype(int).astype(str):'ipri'})\n",
    "\n",
    "ipri_icoun = ipri_s[df_22333['icoun'] == ipri_s['Countries']].iloc[0,:]\n",
    "if (ipri_icoun['ipri'] == int(df_22333['ipri']) ):\n",
    "    print(\"The IPRI value for origin is matching\")\n",
    "else:\n",
    "    print(\"Check the Origin IPRI not matching\")\n",
    "\n",
    "\n",
    "ipri_dcoun = ipri_s[df_22333['tcoun'] == ipri_s['Countries']].iloc[0,:]\n",
    "if (ipri_dcoun['ipri'] == int(df_22333['ipri_t']) ):\n",
    "    print(\"The IPRI value for destination is matching\")\n",
    "else:\n",
    "    print(\"Check the Destination IPRI not matching\")"
   ]
  },
  {
   "cell_type": "code",
   "execution_count": null,
   "metadata": {},
   "outputs": [],
   "source": []
  }
 ],
 "metadata": {
  "kernelspec": {
   "display_name": "Python 3",
   "language": "python",
   "name": "python3"
  },
  "language_info": {
   "codemirror_mode": {
    "name": "ipython",
    "version": 3
   },
   "file_extension": ".py",
   "mimetype": "text/x-python",
   "name": "python",
   "nbconvert_exporter": "python",
   "pygments_lexer": "ipython3",
   "version": "3.9.1"
  }
 },
 "nbformat": 4,
 "nbformat_minor": 4
}
